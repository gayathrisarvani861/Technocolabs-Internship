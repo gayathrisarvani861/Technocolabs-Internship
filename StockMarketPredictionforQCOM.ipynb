{
  "nbformat": 4,
  "nbformat_minor": 0,
  "metadata": {
    "colab": {
      "name": "StockMarketPredictionforQCOM.ipynb",
      "provenance": []
    },
    "kernelspec": {
      "name": "python3",
      "display_name": "Python 3"
    },
    "language_info": {
      "name": "python"
    }
  },
  "cells": [
    {
      "cell_type": "code",
      "metadata": {
        "colab": {
          "base_uri": "https://localhost:8080/",
          "height": 17
        },
        "id": "4vNVwlX_aBcT",
        "outputId": "a76adf97-0648-49ca-c647-999b44640193"
      },
      "source": [
        "#Importing libraries\n",
        "#Importing Libraries\n",
        "import pandas as pd\n",
        "import numpy as np\n",
        "import seaborn as sns\n",
        "import matplotlib.pyplot as plt\n",
        "get_ipython().run_line_magic('matplotlib', 'inline')\n",
        "\n",
        "import plotly.graph_objs as go\n",
        "from plotly.offline import plot\n",
        "\n",
        "#for plotting\n",
        "from plotly.offline import download_plotlyjs, init_notebook_mode, plot, iplot\n",
        "init_notebook_mode(connected=True)"
      ],
      "execution_count": 2,
      "outputs": [
        {
          "output_type": "display_data",
          "data": {
            "text/html": [
              "        <script type=\"text/javascript\">\n",
              "        window.PlotlyConfig = {MathJaxConfig: 'local'};\n",
              "        if (window.MathJax) {MathJax.Hub.Config({SVG: {font: \"STIX-Web\"}});}\n",
              "        if (typeof require !== 'undefined') {\n",
              "        require.undef(\"plotly\");\n",
              "        requirejs.config({\n",
              "            paths: {\n",
              "                'plotly': ['https://cdn.plot.ly/plotly-latest.min']\n",
              "            }\n",
              "        });\n",
              "        require(['plotly'], function(Plotly) {\n",
              "            window._Plotly = Plotly;\n",
              "        });\n",
              "        }\n",
              "        </script>\n",
              "        "
            ]
          },
          "metadata": {
            "tags": []
          }
        }
      ]
    },
    {
      "cell_type": "code",
      "metadata": {
        "colab": {
          "resources": {
            "http://localhost:8080/nbextensions/google.colab/files.js": {
              "data": "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",
              "ok": true,
              "headers": [
                [
                  "content-type",
                  "application/javascript"
                ]
              ],
              "status": 200,
              "status_text": ""
            }
          },
          "base_uri": "https://localhost:8080/",
          "height": 73
        },
        "id": "QLIz1IDCaXlV",
        "outputId": "ecb6148d-4b04-4572-cbe3-06557bcfee44"
      },
      "source": [
        "from google.colab import files\n",
        "uploaded = files.upload()    #To upload files from local drive to colabs"
      ],
      "execution_count": 3,
      "outputs": [
        {
          "output_type": "display_data",
          "data": {
            "text/html": [
              "\n",
              "     <input type=\"file\" id=\"files-b90749ee-42ed-4da3-8780-20a797a10cff\" name=\"files[]\" multiple disabled\n",
              "        style=\"border:none\" />\n",
              "     <output id=\"result-b90749ee-42ed-4da3-8780-20a797a10cff\">\n",
              "      Upload widget is only available when the cell has been executed in the\n",
              "      current browser session. Please rerun this cell to enable.\n",
              "      </output>\n",
              "      <script src=\"/nbextensions/google.colab/files.js\"></script> "
            ],
            "text/plain": [
              "<IPython.core.display.HTML object>"
            ]
          },
          "metadata": {
            "tags": []
          }
        },
        {
          "output_type": "stream",
          "text": [
            "Saving QCOM.csv to QCOM.csv\n"
          ],
          "name": "stdout"
        }
      ]
    },
    {
      "cell_type": "code",
      "metadata": {
        "colab": {
          "base_uri": "https://localhost:8080/"
        },
        "id": "qNKNgGMfagnF",
        "outputId": "9c0ae9e1-3bd6-4c69-dba1-0645b76ac248"
      },
      "source": [
        "#Reading data\n",
        "import io\n",
        "qcom = pd.read_csv(io.BytesIO(uploaded['QCOM.csv']))  \n",
        "print(qcom)"
      ],
      "execution_count": 4,
      "outputs": [
        {
          "output_type": "stream",
          "text": [
            "            Date Close/Last    Volume      Open       High      Low\n",
            "0     06/09/2021    $132.89   6717243  $135.105    $135.35  $132.79\n",
            "1     06/08/2021     $134.2   9657889   $134.06  $135.3895     $133\n",
            "2     06/07/2021    $133.32   5563253    $133.7    $133.77  $132.64\n",
            "3     06/04/2021    $134.34   7416675  $132.525    $135.05   $132.2\n",
            "4     06/03/2021    $131.78   6643997   $132.65    $133.39  $131.42\n",
            "...          ...        ...       ...       ...        ...      ...\n",
            "2511  06/16/2011     $52.99  19440800    $54.12     $54.21   $52.42\n",
            "2512  06/15/2011      $54.1  16748740    $55.23     $55.56    $53.8\n",
            "2513  06/14/2011     $55.58  11995730    $54.87     $55.87   $54.75\n",
            "2514  06/13/2011      $54.4  10670650    $54.79     $54.89   $54.24\n",
            "2515  06/10/2011      $54.6  14524760     $55.7     $55.74  $54.355\n",
            "\n",
            "[2516 rows x 6 columns]\n"
          ],
          "name": "stdout"
        }
      ]
    },
    {
      "cell_type": "code",
      "metadata": {
        "colab": {
          "base_uri": "https://localhost:8080/"
        },
        "id": "7dMzBOkTahGs",
        "outputId": "61e5b8b8-0221-4c25-8a4f-dfb095b8239b"
      },
      "source": [
        "qcom['Date'] = pd.to_datetime(qcom['Date'])\n",
        "#convert object type to float\n",
        "qcom=qcom.rename(columns={'Close/Last':'Close'})\n",
        "qcom['Close']=qcom['Close'].replace('[\\$]','',regex=True).astype(float)\n",
        "qcom[qcom.columns[3:]]=qcom[qcom.columns[3:]].replace('[\\$]','',regex=True).astype(float)\n",
        "qcom.info()"
      ],
      "execution_count": 5,
      "outputs": [
        {
          "output_type": "stream",
          "text": [
            "<class 'pandas.core.frame.DataFrame'>\n",
            "RangeIndex: 2516 entries, 0 to 2515\n",
            "Data columns (total 6 columns):\n",
            " #   Column  Non-Null Count  Dtype         \n",
            "---  ------  --------------  -----         \n",
            " 0   Date    2516 non-null   datetime64[ns]\n",
            " 1   Close   2516 non-null   float64       \n",
            " 2   Volume  2516 non-null   int64         \n",
            " 3   Open    2516 non-null   float64       \n",
            " 4   High    2516 non-null   float64       \n",
            " 5   Low     2516 non-null   float64       \n",
            "dtypes: datetime64[ns](1), float64(4), int64(1)\n",
            "memory usage: 118.1 KB\n"
          ],
          "name": "stdout"
        }
      ]
    },
    {
      "cell_type": "code",
      "metadata": {
        "colab": {
          "base_uri": "https://localhost:8080/"
        },
        "id": "pcbrV6oLahJ0",
        "outputId": "62cb7bdd-9387-4336-8ccd-79690b82ea97"
      },
      "source": [
        "print(f'Dataframe contains stock prices from {qcom.Date.min()} to {qcom.Date.max()}')\n",
        "print(f'Total no.of days = {(qcom.Date.max()- qcom.Date.min()).days} days')"
      ],
      "execution_count": 6,
      "outputs": [
        {
          "output_type": "stream",
          "text": [
            "Dataframe contains stock prices from 2011-06-10 00:00:00 to 2021-06-09 00:00:00\n",
            "Total no.of days = 3652 days\n"
          ],
          "name": "stdout"
        }
      ]
    },
    {
      "cell_type": "code",
      "metadata": {
        "colab": {
          "base_uri": "https://localhost:8080/",
          "height": 295
        },
        "id": "NvrqkTLMahNs",
        "outputId": "26634867-2cb2-4d3f-c7a1-9a08ca18d13a"
      },
      "source": [
        "qcom.describe()"
      ],
      "execution_count": 7,
      "outputs": [
        {
          "output_type": "execute_result",
          "data": {
            "text/html": [
              "<div>\n",
              "<style scoped>\n",
              "    .dataframe tbody tr th:only-of-type {\n",
              "        vertical-align: middle;\n",
              "    }\n",
              "\n",
              "    .dataframe tbody tr th {\n",
              "        vertical-align: top;\n",
              "    }\n",
              "\n",
              "    .dataframe thead th {\n",
              "        text-align: right;\n",
              "    }\n",
              "</style>\n",
              "<table border=\"1\" class=\"dataframe\">\n",
              "  <thead>\n",
              "    <tr style=\"text-align: right;\">\n",
              "      <th></th>\n",
              "      <th>Close</th>\n",
              "      <th>Volume</th>\n",
              "      <th>Open</th>\n",
              "      <th>High</th>\n",
              "      <th>Low</th>\n",
              "    </tr>\n",
              "  </thead>\n",
              "  <tbody>\n",
              "    <tr>\n",
              "      <th>count</th>\n",
              "      <td>2516.000000</td>\n",
              "      <td>2.516000e+03</td>\n",
              "      <td>2516.000000</td>\n",
              "      <td>2516.000000</td>\n",
              "      <td>2516.000000</td>\n",
              "    </tr>\n",
              "    <tr>\n",
              "      <th>mean</th>\n",
              "      <td>70.716720</td>\n",
              "      <td>1.172424e+07</td>\n",
              "      <td>70.719193</td>\n",
              "      <td>71.476072</td>\n",
              "      <td>69.950835</td>\n",
              "    </tr>\n",
              "    <tr>\n",
              "      <th>std</th>\n",
              "      <td>22.389306</td>\n",
              "      <td>7.399784e+06</td>\n",
              "      <td>22.442521</td>\n",
              "      <td>22.739970</td>\n",
              "      <td>22.071313</td>\n",
              "    </tr>\n",
              "    <tr>\n",
              "      <th>min</th>\n",
              "      <td>42.960000</td>\n",
              "      <td>2.120165e+06</td>\n",
              "      <td>42.510000</td>\n",
              "      <td>43.290000</td>\n",
              "      <td>42.240000</td>\n",
              "    </tr>\n",
              "    <tr>\n",
              "      <th>25%</th>\n",
              "      <td>56.737500</td>\n",
              "      <td>7.739491e+06</td>\n",
              "      <td>56.610000</td>\n",
              "      <td>57.257500</td>\n",
              "      <td>56.139825</td>\n",
              "    </tr>\n",
              "    <tr>\n",
              "      <th>50%</th>\n",
              "      <td>65.195000</td>\n",
              "      <td>1.008450e+07</td>\n",
              "      <td>65.145000</td>\n",
              "      <td>65.805000</td>\n",
              "      <td>64.545000</td>\n",
              "    </tr>\n",
              "    <tr>\n",
              "      <th>75%</th>\n",
              "      <td>74.830000</td>\n",
              "      <td>1.338639e+07</td>\n",
              "      <td>74.830000</td>\n",
              "      <td>75.555000</td>\n",
              "      <td>74.117500</td>\n",
              "    </tr>\n",
              "    <tr>\n",
              "      <th>max</th>\n",
              "      <td>164.780000</td>\n",
              "      <td>1.559539e+08</td>\n",
              "      <td>167.577000</td>\n",
              "      <td>167.940000</td>\n",
              "      <td>164.440000</td>\n",
              "    </tr>\n",
              "  </tbody>\n",
              "</table>\n",
              "</div>"
            ],
            "text/plain": [
              "             Close        Volume         Open         High          Low\n",
              "count  2516.000000  2.516000e+03  2516.000000  2516.000000  2516.000000\n",
              "mean     70.716720  1.172424e+07    70.719193    71.476072    69.950835\n",
              "std      22.389306  7.399784e+06    22.442521    22.739970    22.071313\n",
              "min      42.960000  2.120165e+06    42.510000    43.290000    42.240000\n",
              "25%      56.737500  7.739491e+06    56.610000    57.257500    56.139825\n",
              "50%      65.195000  1.008450e+07    65.145000    65.805000    64.545000\n",
              "75%      74.830000  1.338639e+07    74.830000    75.555000    74.117500\n",
              "max     164.780000  1.559539e+08   167.577000   167.940000   164.440000"
            ]
          },
          "metadata": {
            "tags": []
          },
          "execution_count": 7
        }
      ]
    },
    {
      "cell_type": "code",
      "metadata": {
        "colab": {
          "base_uri": "https://localhost:8080/"
        },
        "id": "U0ie-C8abKWn",
        "outputId": "b50b18a3-e6f2-43e4-e74f-ff8d23eaab3c"
      },
      "source": [
        "qcom.info()"
      ],
      "execution_count": 8,
      "outputs": [
        {
          "output_type": "stream",
          "text": [
            "<class 'pandas.core.frame.DataFrame'>\n",
            "RangeIndex: 2516 entries, 0 to 2515\n",
            "Data columns (total 6 columns):\n",
            " #   Column  Non-Null Count  Dtype         \n",
            "---  ------  --------------  -----         \n",
            " 0   Date    2516 non-null   datetime64[ns]\n",
            " 1   Close   2516 non-null   float64       \n",
            " 2   Volume  2516 non-null   int64         \n",
            " 3   Open    2516 non-null   float64       \n",
            " 4   High    2516 non-null   float64       \n",
            " 5   Low     2516 non-null   float64       \n",
            "dtypes: datetime64[ns](1), float64(4), int64(1)\n",
            "memory usage: 118.1 KB\n"
          ],
          "name": "stdout"
        }
      ]
    },
    {
      "cell_type": "code",
      "metadata": {
        "colab": {
          "base_uri": "https://localhost:8080/",
          "height": 282
        },
        "id": "hq-VLAI_bMwm",
        "outputId": "fd2d0075-6fd7-40bb-a082-99c06b3ad522"
      },
      "source": [
        "#Outlier detection\n",
        "qcom.boxplot(column='Close')\n",
        "plt.show"
      ],
      "execution_count": 10,
      "outputs": [
        {
          "output_type": "execute_result",
          "data": {
            "text/plain": [
              "<function matplotlib.pyplot.show>"
            ]
          },
          "metadata": {
            "tags": []
          },
          "execution_count": 10
        },
        {
          "output_type": "display_data",
          "data": {
            "image/png": "[encoded data removed]",
            "text/plain": [
              "<Figure size 432x288 with 1 Axes>"
            ]
          },
          "metadata": {
            "tags": [],
            "needs_background": "light"
          }
        }
      ]
    },
    {
      "cell_type": "code",
      "metadata": {
        "colab": {
          "base_uri": "https://localhost:8080/",
          "height": 282
        },
        "id": "x7rmmTAibM1V",
        "outputId": "fc9e14c4-d775-4b96-e4a7-43802636bbc3"
      },
      "source": [
        "qcom.boxplot(column='Open')\n",
        "plt.show"
      ],
      "execution_count": 11,
      "outputs": [
        {
          "output_type": "execute_result",
          "data": {
            "text/plain": [
              "<function matplotlib.pyplot.show>"
            ]
          },
          "metadata": {
            "tags": []
          },
          "execution_count": 11
        },
        {
          "output_type": "display_data",
          "data": {
            "image/png": "[encoded data removed]",
            "text/plain": [
              "<Figure size 432x288 with 1 Axes>"
            ]
          },
          "metadata": {
            "tags": [],
            "needs_background": "light"
          }
        }
      ]
    },
    {
      "cell_type": "code",
      "metadata": {
        "colab": {
          "base_uri": "https://localhost:8080/",
          "height": 282
        },
        "id": "d-xlXtzxbM60",
        "outputId": "01f2380d-016d-45e7-cd1e-a8d1c7a6540c"
      },
      "source": [
        "qcom.boxplot(column='High')\n",
        "plt.show"
      ],
      "execution_count": 12,
      "outputs": [
        {
          "output_type": "execute_result",
          "data": {
            "text/plain": [
              "<function matplotlib.pyplot.show>"
            ]
          },
          "metadata": {
            "tags": []
          },
          "execution_count": 12
        },
        {
          "output_type": "display_data",
          "data": {
            "image/png": "[encoded data removed]",
            "text/plain": [
              "<Figure size 432x288 with 1 Axes>"
            ]
          },
          "metadata": {
            "tags": [],
            "needs_background": "light"
          }
        }
      ]
    },
    {
      "cell_type": "code",
      "metadata": {
        "colab": {
          "base_uri": "https://localhost:8080/",
          "height": 282
        },
        "id": "_-L2Z8FqbND8",
        "outputId": "54b35611-56c2-47c9-8d53-81bf01d7213e"
      },
      "source": [
        "qcom.boxplot(column='Low')\n",
        "plt.show"
      ],
      "execution_count": 13,
      "outputs": [
        {
          "output_type": "execute_result",
          "data": {
            "text/plain": [
              "<function matplotlib.pyplot.show>"
            ]
          },
          "metadata": {
            "tags": []
          },
          "execution_count": 13
        },
        {
          "output_type": "display_data",
          "data": {
            "image/png": "[encoded data removed]",
            "text/plain": [
              "<Figure size 432x288 with 1 Axes>"
            ]
          },
          "metadata": {
            "tags": [],
            "needs_background": "light"
          }
        }
      ]
    },
    {
      "cell_type": "code",
      "metadata": {
        "colab": {
          "base_uri": "https://localhost:8080/",
          "height": 293
        },
        "id": "5GDRzKtobNH1",
        "outputId": "661be7ad-78e4-4e56-c9aa-3e75be73f208"
      },
      "source": [
        "qcom.boxplot(column='Volume')\n",
        "plt.show"
      ],
      "execution_count": 14,
      "outputs": [
        {
          "output_type": "execute_result",
          "data": {
            "text/plain": [
              "<function matplotlib.pyplot.show>"
            ]
          },
          "metadata": {
            "tags": []
          },
          "execution_count": 14
        },
        {
          "output_type": "display_data",
          "data": {
            "image/png": "[encoded data removed]",
            "text/plain": [
              "<Figure size 432x288 with 1 Axes>"
            ]
          },
          "metadata": {
            "tags": [],
            "needs_background": "light"
          }
        }
      ]
    },
    {
      "cell_type": "code",
      "metadata": {
        "id": "UpQX_Lm1bwLn"
      },
      "source": [
        "def remove_outliners(col):\n",
        "  sorted(col)\n",
        "  Q1,Q3=col.quantile([0.25,0.75])\n",
        "  IQR=Q3-Q1\n",
        "  l_range= Q1-(1.5*IQR)\n",
        "  u_range= Q3+(1.5*IQR)\n",
        "  return l_range,u_range"
      ],
      "execution_count": 15,
      "outputs": []
    },
    {
      "cell_type": "code",
      "metadata": {
        "id": "74PlMBX8b10M"
      },
      "source": [
        "x,y=remove_outliners(qcom['Volume'])\n",
        "qcom['Volume']=np.where(qcom['Volume']>y, y, qcom['Volume'])\n",
        "qcom['Volume']=np.where(qcom['Volume']<x, x, qcom['Volume'])"
      ],
      "execution_count": 16,
      "outputs": []
    },
    {
      "cell_type": "code",
      "metadata": {
        "id": "Pw7eRqKub8Ts"
      },
      "source": [
        "x,y=remove_outliners(qcom['High'])\n",
        "qcom['High']=np.where(qcom['High']>y, y, qcom['High'])\n",
        "qcom['High']=np.where(qcom['High']<x, x, qcom['High'])"
      ],
      "execution_count": 17,
      "outputs": []
    },
    {
      "cell_type": "code",
      "metadata": {
        "id": "LzMFoDXfb8XN"
      },
      "source": [
        "x,y=remove_outliners(qcom['Low'])\n",
        "qcom['Low']=np.where(qcom['Low']>y, y, qcom['Low'])\n",
        "qcom['Low']=np.where(qcom['Low']<x, x, qcom['Low'])"
      ],
      "execution_count": 18,
      "outputs": []
    },
    {
      "cell_type": "code",
      "metadata": {
        "id": "Qrhg4hZ-b8ac"
      },
      "source": [
        "x,y=remove_outliners(qcom['Open'])\n",
        "qcom['Open']=np.where(qcom['Open']>y, y, qcom['Open'])\n",
        "qcom['Open']=np.where(qcom['Open']<x, x, qcom['Open'])"
      ],
      "execution_count": 19,
      "outputs": []
    },
    {
      "cell_type": "code",
      "metadata": {
        "id": "8yqngJJub8dY"
      },
      "source": [
        "x,y=remove_outliners(qcom['Close'])\n",
        "qcom['Close']=np.where(qcom['Close']>y, y, qcom['Close'])\n",
        "qcom['Close']=np.where(qcom['Close']<x, x, qcom['Close'])"
      ],
      "execution_count": 20,
      "outputs": []
    },
    {
      "cell_type": "code",
      "metadata": {
        "colab": {
          "base_uri": "https://localhost:8080/",
          "height": 461
        },
        "id": "TVHe-24mb8gB",
        "outputId": "8ae43f22-c7f0-43c5-bdf8-116d47333835"
      },
      "source": [
        "qcom['Open'].plot(label='Open',figsize=(15,7))\n",
        "qcom['Close'].plot(label='Close')\n",
        "plt.legend()\n",
        "plt.title(\"Open vs Close\")"
      ],
      "execution_count": 21,
      "outputs": [
        {
          "output_type": "execute_result",
          "data": {
            "text/plain": [
              "Text(0.5, 1.0, 'Open vs Close')"
            ]
          },
          "metadata": {
            "tags": []
          },
          "execution_count": 21
        },
        {
          "output_type": "display_data",
          "data": {
            "image/png": "[encoded data removed]",
            "text/plain": [
              "<Figure size 1080x504 with 1 Axes>"
            ]
          },
          "metadata": {
            "tags": [],
            "needs_background": "light"
          }
        }
      ]
    },
    {
      "cell_type": "code",
      "metadata": {
        "colab": {
          "resources": {
            "http://localhost:8080/nbextensions/google.colab/files.js": {
              "data": "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",
              "ok": true,
              "headers": [
                [
                  "content-type",
                  "application/javascript"
                ]
              ],
              "status": 200,
              "status_text": ""
            }
          },
          "base_uri": "https://localhost:8080/",
          "height": 274
        },
        "id": "e3SUf7hmb8jM",
        "outputId": "7fb28aff-c60c-43ca-fe91-a75ed07a4ebd"
      },
      "source": [
        "from google.colab import files\n",
        "uploaded = files.upload()"
      ],
      "execution_count": 22,
      "outputs": [
        {
          "output_type": "display_data",
          "data": {
            "text/html": [
              "\n",
              "     <input type=\"file\" id=\"files-cb3368dc-6364-46ed-9fa4-7f55cf19bfed\" name=\"files[]\" multiple disabled\n",
              "        style=\"border:none\" />\n",
              "     <output id=\"result-cb3368dc-6364-46ed-9fa4-7f55cf19bfed\">\n",
              "      Upload widget is only available when the cell has been executed in the\n",
              "      current browser session. Please rerun this cell to enable.\n",
              "      </output>\n",
              "      <script src=\"/nbextensions/google.colab/files.js\"></script> "
            ],
            "text/plain": [
              "<IPython.core.display.HTML object>"
            ]
          },
          "metadata": {
            "tags": []
          }
        },
        {
          "output_type": "stream",
          "text": [
            "Saving Headlines_2015.csv to Headlines_2015.csv\n",
            "Saving Headlines_2016.csv to Headlines_2016.csv\n",
            "Saving Headlines_2017.csv to Headlines_2017.csv\n",
            "Saving Headlines_2018.csv to Headlines_2018.csv\n",
            "Saving Headlines_2019.csv to Headlines_2019.csv\n",
            "Saving Headlines_2020.csv to Headlines_2020.csv\n",
            "Saving Headlines_2021.csv to Headlines_2021.csv\n"
          ],
          "name": "stdout"
        }
      ]
    },
    {
      "cell_type": "code",
      "metadata": {
        "id": "f_q93pJOdfwt"
      },
      "source": [
        "df1 = pd.read_csv(io.BytesIO(uploaded['Headlines_2015.csv']),encoding='ISO-8859-1')\n",
        "df2 = pd.read_csv(io.BytesIO(uploaded['Headlines_2016.csv']),encoding='ISO-8859-1')\n",
        "df3 = pd.read_csv(io.BytesIO(uploaded['Headlines_2017.csv']),encoding='ISO-8859-1')\n",
        "df4 = pd.read_csv(io.BytesIO(uploaded['Headlines_2018.csv']),encoding='ISO-8859-1')\n",
        "df5 = pd.read_csv(io.BytesIO(uploaded['Headlines_2019.csv']),encoding='ISO-8859-1')\n",
        "df6 = pd.read_csv(io.BytesIO(uploaded['Headlines_2020.csv']),encoding='ISO-8859-1')\n",
        "df7 = pd.read_csv(io.BytesIO(uploaded['Headlines_2021.csv']),encoding='ISO-8859-1')"
      ],
      "execution_count": 26,
      "outputs": []
    },
    {
      "cell_type": "code",
      "metadata": {
        "colab": {
          "base_uri": "https://localhost:8080/",
          "height": 417
        },
        "id": "TBWMdw9EdiKH",
        "outputId": "11fdb98a-7078-433e-a13c-e0a0a001bf42"
      },
      "source": [
        "#Concatenating all news data into one\n",
        "news=pd.concat([df1,df2,df3,df4,df5,df6,df7])\n",
        "news"
      ],
      "execution_count": 27,
      "outputs": [
        {
          "output_type": "execute_result",
          "data": {
            "text/html": [
              "<div>\n",
              "<style scoped>\n",
              "    .dataframe tbody tr th:only-of-type {\n",
              "        vertical-align: middle;\n",
              "    }\n",
              "\n",
              "    .dataframe tbody tr th {\n",
              "        vertical-align: top;\n",
              "    }\n",
              "\n",
              "    .dataframe thead th {\n",
              "        text-align: right;\n",
              "    }\n",
              "</style>\n",
              "<table border=\"1\" class=\"dataframe\">\n",
              "  <thead>\n",
              "    <tr style=\"text-align: right;\">\n",
              "      <th></th>\n",
              "      <th>Date</th>\n",
              "      <th>Headlines</th>\n",
              "    </tr>\n",
              "  </thead>\n",
              "  <tbody>\n",
              "    <tr>\n",
              "      <th>0</th>\n",
              "      <td>2015-01-01</td>\n",
              "      <td>What Can We Expect From Apple Inc. In 2015? 1 ...</td>\n",
              "    </tr>\n",
              "    <tr>\n",
              "      <th>1</th>\n",
              "      <td>2015-01-02</td>\n",
              "      <td>What to expect from Apple in 2015 beyond its s...</td>\n",
              "    </tr>\n",
              "    <tr>\n",
              "      <th>2</th>\n",
              "      <td>2015-01-03</td>\n",
              "      <td>Mountie: An inexpensive and innovative way to ...</td>\n",
              "    </tr>\n",
              "    <tr>\n",
              "      <th>3</th>\n",
              "      <td>2015-01-04</td>\n",
              "      <td>Donald Yacktman on the Sources of Moats, His C...</td>\n",
              "    </tr>\n",
              "    <tr>\n",
              "      <th>4</th>\n",
              "      <td>2015-01-05</td>\n",
              "      <td>SIM-free iPhone 6, 6 Plus reportedly debuting ...</td>\n",
              "    </tr>\n",
              "    <tr>\n",
              "      <th>...</th>\n",
              "      <td>...</td>\n",
              "      <td>...</td>\n",
              "    </tr>\n",
              "    <tr>\n",
              "      <th>169</th>\n",
              "      <td>2021-06-19</td>\n",
              "      <td>Best pre-Prime Day smartwatch deals on Apple W...</td>\n",
              "    </tr>\n",
              "    <tr>\n",
              "      <th>170</th>\n",
              "      <td>2021-06-20</td>\n",
              "      <td>iPhone 13 rumors: As Apple's fall event gets c...</td>\n",
              "    </tr>\n",
              "    <tr>\n",
              "      <th>171</th>\n",
              "      <td>2021-06-21</td>\n",
              "      <td>Apple is shortening new free TV Plus trials fr...</td>\n",
              "    </tr>\n",
              "    <tr>\n",
              "      <th>172</th>\n",
              "      <td>2021-06-22</td>\n",
              "      <td>Google likely to soon face antitrust claims ov...</td>\n",
              "    </tr>\n",
              "    <tr>\n",
              "      <th>173</th>\n",
              "      <td>2021-06-23</td>\n",
              "      <td>French court sets date in Apple case over App ...</td>\n",
              "    </tr>\n",
              "  </tbody>\n",
              "</table>\n",
              "<p>2365 rows × 2 columns</p>\n",
              "</div>"
            ],
            "text/plain": [
              "           Date                                          Headlines\n",
              "0    2015-01-01  What Can We Expect From Apple Inc. In 2015? 1 ...\n",
              "1    2015-01-02  What to expect from Apple in 2015 beyond its s...\n",
              "2    2015-01-03  Mountie: An inexpensive and innovative way to ...\n",
              "3    2015-01-04  Donald Yacktman on the Sources of Moats, His C...\n",
              "4    2015-01-05  SIM-free iPhone 6, 6 Plus reportedly debuting ...\n",
              "..          ...                                                ...\n",
              "169  2021-06-19  Best pre-Prime Day smartwatch deals on Apple W...\n",
              "170  2021-06-20  iPhone 13 rumors: As Apple's fall event gets c...\n",
              "171  2021-06-21  Apple is shortening new free TV Plus trials fr...\n",
              "172  2021-06-22  Google likely to soon face antitrust claims ov...\n",
              "173  2021-06-23  French court sets date in Apple case over App ...\n",
              "\n",
              "[2365 rows x 2 columns]"
            ]
          },
          "metadata": {
            "tags": []
          },
          "execution_count": 27
        }
      ]
    },
    {
      "cell_type": "code",
      "metadata": {
        "colab": {
          "base_uri": "https://localhost:8080/"
        },
        "id": "TbWKAtGzdlr2",
        "outputId": "5b251b76-8b14-4c2c-aa53-e456c950996b"
      },
      "source": [
        "news['Date']=pd.to_datetime(news['Date'],format='%Y/%m/%d')\n",
        "news[\"Headlines\"]=news[\"Headlines\"].astype(str)\n",
        "news.dtypes"
      ],
      "execution_count": 28,
      "outputs": [
        {
          "output_type": "execute_result",
          "data": {
            "text/plain": [
              "Date         datetime64[ns]\n",
              "Headlines            object\n",
              "dtype: object"
            ]
          },
          "metadata": {
            "tags": []
          },
          "execution_count": 28
        }
      ]
    },
    {
      "cell_type": "code",
      "metadata": {
        "colab": {
          "base_uri": "https://localhost:8080/"
        },
        "id": "G9_xKsjRdvM2",
        "outputId": "3f60f112-8866-423f-d195-da3fe807e2a7"
      },
      "source": [
        "import nltk # Natural Language tool kit \n",
        "nltk.download('stopwords')"
      ],
      "execution_count": 30,
      "outputs": [
        {
          "output_type": "stream",
          "text": [
            "[nltk_data] Downloading package stopwords to /root/nltk_data...\n",
            "[nltk_data]   Package stopwords is already up-to-date!\n"
          ],
          "name": "stdout"
        },
        {
          "output_type": "execute_result",
          "data": {
            "text/plain": [
              "True"
            ]
          },
          "metadata": {
            "tags": []
          },
          "execution_count": 30
        }
      ]
    },
    {
      "cell_type": "code",
      "metadata": {
        "id": "Vt8ZN-5xdly-"
      },
      "source": [
        "#Datacleaning and pre-processing\n",
        "import re\n",
        "from nltk.corpus import stopwords"
      ],
      "execution_count": 32,
      "outputs": []
    },
    {
      "cell_type": "code",
      "metadata": {
        "id": "UL1WW-4td-Us"
      },
      "source": [
        "news[\"Headlines\"]=news[\"Headlines\"].astype(str)\n",
        "news['Headlines']=news['Headlines'].apply(lambda x: x.lower()) #convert into lowercase"
      ],
      "execution_count": 33,
      "outputs": []
    },
    {
      "cell_type": "code",
      "metadata": {
        "id": "rNp5Lbezdl5j"
      },
      "source": [
        "import string\n",
        "def char_rmvl(text):                 #Removing all char except a-z and A-Z and replace them with ' '\n",
        "    new=[char for char in text if char not in string.punctuation]\n",
        "    new_str=''.join(new)\n",
        "    new.clear()\n",
        "    return new_str\n",
        "news[\"Headlines\"]=news[\"Headlines\"].astype(str)\n",
        "news['Headlines']=news['Headlines'].apply(char_rmvl)\n"
      ],
      "execution_count": 34,
      "outputs": []
    },
    {
      "cell_type": "code",
      "metadata": {
        "colab": {
          "base_uri": "https://localhost:8080/",
          "height": 417
        },
        "id": "lBZ7Kq8HeGaJ",
        "outputId": "be86616f-d134-4fe4-c4b4-98844ee718ce"
      },
      "source": [
        "#Removing stopwords\n",
        "stop = stopwords.words('english')\n",
        "news['Headlines'] = news['Headlines'].apply(lambda x: ' '.join([word for word in x.split() if word not in (stop)]))\n",
        "news"
      ],
      "execution_count": 35,
      "outputs": [
        {
          "output_type": "execute_result",
          "data": {
            "text/html": [
              "<div>\n",
              "<style scoped>\n",
              "    .dataframe tbody tr th:only-of-type {\n",
              "        vertical-align: middle;\n",
              "    }\n",
              "\n",
              "    .dataframe tbody tr th {\n",
              "        vertical-align: top;\n",
              "    }\n",
              "\n",
              "    .dataframe thead th {\n",
              "        text-align: right;\n",
              "    }\n",
              "</style>\n",
              "<table border=\"1\" class=\"dataframe\">\n",
              "  <thead>\n",
              "    <tr style=\"text-align: right;\">\n",
              "      <th></th>\n",
              "      <th>Date</th>\n",
              "      <th>Headlines</th>\n",
              "    </tr>\n",
              "  </thead>\n",
              "  <tbody>\n",
              "    <tr>\n",
              "      <th>0</th>\n",
              "      <td>2015-01-01</td>\n",
              "      <td>expect apple inc 2015 1 reason might wrong app...</td>\n",
              "    </tr>\n",
              "    <tr>\n",
              "      <th>1</th>\n",
              "      <td>2015-01-02</td>\n",
              "      <td>expect apple 2015 beyond smartwatch amazonquot...</td>\n",
              "    </tr>\n",
              "    <tr>\n",
              "      <th>2</th>\n",
              "      <td>2015-01-03</td>\n",
              "      <td>mountie inexpensive innovative way attach ipho...</td>\n",
              "    </tr>\n",
              "    <tr>\n",
              "      <th>3</th>\n",
              "      <td>2015-01-04</td>\n",
              "      <td>donald yacktman sources moats concern applequo...</td>\n",
              "    </tr>\n",
              "    <tr>\n",
              "      <th>4</th>\n",
              "      <td>2015-01-05</td>\n",
              "      <td>simfree iphone 6 6 plus reportedly debuting to...</td>\n",
              "    </tr>\n",
              "    <tr>\n",
              "      <th>...</th>\n",
              "      <td>...</td>\n",
              "      <td>...</td>\n",
              "    </tr>\n",
              "    <tr>\n",
              "      <th>169</th>\n",
              "      <td>2021-06-19</td>\n",
              "      <td>best preprime day smartwatch deals apple watch...</td>\n",
              "    </tr>\n",
              "    <tr>\n",
              "      <th>170</th>\n",
              "      <td>2021-06-20</td>\n",
              "      <td>iphone 13 rumors apples fall event gets closer...</td>\n",
              "    </tr>\n",
              "    <tr>\n",
              "      <th>171</th>\n",
              "      <td>2021-06-21</td>\n",
              "      <td>apple shortening new free tv plus trials year ...</td>\n",
              "    </tr>\n",
              "    <tr>\n",
              "      <th>172</th>\n",
              "      <td>2021-06-22</td>\n",
              "      <td>google likely soon face antitrust claims play ...</td>\n",
              "    </tr>\n",
              "    <tr>\n",
              "      <th>173</th>\n",
              "      <td>2021-06-23</td>\n",
              "      <td>french court sets date apple case app store de...</td>\n",
              "    </tr>\n",
              "  </tbody>\n",
              "</table>\n",
              "<p>2365 rows × 2 columns</p>\n",
              "</div>"
            ],
            "text/plain": [
              "          Date                                          Headlines\n",
              "0   2015-01-01  expect apple inc 2015 1 reason might wrong app...\n",
              "1   2015-01-02  expect apple 2015 beyond smartwatch amazonquot...\n",
              "2   2015-01-03  mountie inexpensive innovative way attach ipho...\n",
              "3   2015-01-04  donald yacktman sources moats concern applequo...\n",
              "4   2015-01-05  simfree iphone 6 6 plus reportedly debuting to...\n",
              "..         ...                                                ...\n",
              "169 2021-06-19  best preprime day smartwatch deals apple watch...\n",
              "170 2021-06-20  iphone 13 rumors apples fall event gets closer...\n",
              "171 2021-06-21  apple shortening new free tv plus trials year ...\n",
              "172 2021-06-22  google likely soon face antitrust claims play ...\n",
              "173 2021-06-23  french court sets date apple case app store de...\n",
              "\n",
              "[2365 rows x 2 columns]"
            ]
          },
          "metadata": {
            "tags": []
          },
          "execution_count": 35
        }
      ]
    },
    {
      "cell_type": "code",
      "metadata": {
        "colab": {
          "base_uri": "https://localhost:8080/",
          "height": 484
        },
        "id": "QUjvNcw0eGhK",
        "outputId": "835970fd-7cea-4974-98b7-72cfc2c11a12"
      },
      "source": [
        "#Apply lemmatization\n",
        "nltk.download('punkt')\n",
        "nltk.download('wordnet')\n",
        "from nltk.tokenize import word_tokenize\n",
        "from nltk.stem import WordNetLemmatizer  #used to perform lemmatization\n",
        "def lemmat(text):\n",
        "    lemma=WordNetLemmatizer()\n",
        "    words=word_tokenize(text)\n",
        "    return ' '.join([lemma.lemmatize(word) for word in words])\n",
        "news['Headlines'] = news['Headlines'].apply(lemmat)\n",
        "news"
      ],
      "execution_count": 36,
      "outputs": [
        {
          "output_type": "stream",
          "text": [
            "[nltk_data] Downloading package punkt to /root/nltk_data...\n",
            "[nltk_data]   Unzipping tokenizers/punkt.zip.\n",
            "[nltk_data] Downloading package wordnet to /root/nltk_data...\n",
            "[nltk_data]   Unzipping corpora/wordnet.zip.\n"
          ],
          "name": "stdout"
        },
        {
          "output_type": "execute_result",
          "data": {
            "text/html": [
              "<div>\n",
              "<style scoped>\n",
              "    .dataframe tbody tr th:only-of-type {\n",
              "        vertical-align: middle;\n",
              "    }\n",
              "\n",
              "    .dataframe tbody tr th {\n",
              "        vertical-align: top;\n",
              "    }\n",
              "\n",
              "    .dataframe thead th {\n",
              "        text-align: right;\n",
              "    }\n",
              "</style>\n",
              "<table border=\"1\" class=\"dataframe\">\n",
              "  <thead>\n",
              "    <tr style=\"text-align: right;\">\n",
              "      <th></th>\n",
              "      <th>Date</th>\n",
              "      <th>Headlines</th>\n",
              "    </tr>\n",
              "  </thead>\n",
              "  <tbody>\n",
              "    <tr>\n",
              "      <th>0</th>\n",
              "      <td>2015-01-01</td>\n",
              "      <td>expect apple inc 2015 1 reason might wrong app...</td>\n",
              "    </tr>\n",
              "    <tr>\n",
              "      <th>1</th>\n",
              "      <td>2015-01-02</td>\n",
              "      <td>expect apple 2015 beyond smartwatch amazonquot...</td>\n",
              "    </tr>\n",
              "    <tr>\n",
              "      <th>2</th>\n",
              "      <td>2015-01-03</td>\n",
              "      <td>mountie inexpensive innovative way attach ipho...</td>\n",
              "    </tr>\n",
              "    <tr>\n",
              "      <th>3</th>\n",
              "      <td>2015-01-04</td>\n",
              "      <td>donald yacktman source moat concern applequots...</td>\n",
              "    </tr>\n",
              "    <tr>\n",
              "      <th>4</th>\n",
              "      <td>2015-01-05</td>\n",
              "      <td>simfree iphone 6 6 plus reportedly debuting to...</td>\n",
              "    </tr>\n",
              "    <tr>\n",
              "      <th>...</th>\n",
              "      <td>...</td>\n",
              "      <td>...</td>\n",
              "    </tr>\n",
              "    <tr>\n",
              "      <th>169</th>\n",
              "      <td>2021-06-19</td>\n",
              "      <td>best preprime day smartwatch deal apple watch ...</td>\n",
              "    </tr>\n",
              "    <tr>\n",
              "      <th>170</th>\n",
              "      <td>2021-06-20</td>\n",
              "      <td>iphone 13 rumor apple fall event get closer se...</td>\n",
              "    </tr>\n",
              "    <tr>\n",
              "      <th>171</th>\n",
              "      <td>2021-06-21</td>\n",
              "      <td>apple shortening new free tv plus trial year t...</td>\n",
              "    </tr>\n",
              "    <tr>\n",
              "      <th>172</th>\n",
              "      <td>2021-06-22</td>\n",
              "      <td>google likely soon face antitrust claim play s...</td>\n",
              "    </tr>\n",
              "    <tr>\n",
              "      <th>173</th>\n",
              "      <td>2021-06-23</td>\n",
              "      <td>french court set date apple case app store dev...</td>\n",
              "    </tr>\n",
              "  </tbody>\n",
              "</table>\n",
              "<p>2365 rows × 2 columns</p>\n",
              "</div>"
            ],
            "text/plain": [
              "          Date                                          Headlines\n",
              "0   2015-01-01  expect apple inc 2015 1 reason might wrong app...\n",
              "1   2015-01-02  expect apple 2015 beyond smartwatch amazonquot...\n",
              "2   2015-01-03  mountie inexpensive innovative way attach ipho...\n",
              "3   2015-01-04  donald yacktman source moat concern applequots...\n",
              "4   2015-01-05  simfree iphone 6 6 plus reportedly debuting to...\n",
              "..         ...                                                ...\n",
              "169 2021-06-19  best preprime day smartwatch deal apple watch ...\n",
              "170 2021-06-20  iphone 13 rumor apple fall event get closer se...\n",
              "171 2021-06-21  apple shortening new free tv plus trial year t...\n",
              "172 2021-06-22  google likely soon face antitrust claim play s...\n",
              "173 2021-06-23  french court set date apple case app store dev...\n",
              "\n",
              "[2365 rows x 2 columns]"
            ]
          },
          "metadata": {
            "tags": []
          },
          "execution_count": 36
        }
      ]
    },
    {
      "cell_type": "code",
      "metadata": {
        "colab": {
          "base_uri": "https://localhost:8080/",
          "height": 417
        },
        "id": "Xsz_uRYCeGlU",
        "outputId": "20b2a416-9e07-4d2c-ad8b-c94b74e452ed"
      },
      "source": [
        "qcom=pd.merge(qcom,news,on=['Date'],how='outer')\n",
        "qcom"
      ],
      "execution_count": 37,
      "outputs": [
        {
          "output_type": "execute_result",
          "data": {
            "text/html": [
              "<div>\n",
              "<style scoped>\n",
              "    .dataframe tbody tr th:only-of-type {\n",
              "        vertical-align: middle;\n",
              "    }\n",
              "\n",
              "    .dataframe tbody tr th {\n",
              "        vertical-align: top;\n",
              "    }\n",
              "\n",
              "    .dataframe thead th {\n",
              "        text-align: right;\n",
              "    }\n",
              "</style>\n",
              "<table border=\"1\" class=\"dataframe\">\n",
              "  <thead>\n",
              "    <tr style=\"text-align: right;\">\n",
              "      <th></th>\n",
              "      <th>Date</th>\n",
              "      <th>Close</th>\n",
              "      <th>Volume</th>\n",
              "      <th>Open</th>\n",
              "      <th>High</th>\n",
              "      <th>Low</th>\n",
              "      <th>Headlines</th>\n",
              "    </tr>\n",
              "  </thead>\n",
              "  <tbody>\n",
              "    <tr>\n",
              "      <th>0</th>\n",
              "      <td>2021-06-09</td>\n",
              "      <td>101.96875</td>\n",
              "      <td>6717243.0</td>\n",
              "      <td>102.16</td>\n",
              "      <td>103.00125</td>\n",
              "      <td>101.084012</td>\n",
              "      <td>athenahealth set support io 15 feature allows ...</td>\n",
              "    </tr>\n",
              "    <tr>\n",
              "      <th>1</th>\n",
              "      <td>2021-06-08</td>\n",
              "      <td>101.96875</td>\n",
              "      <td>9657889.0</td>\n",
              "      <td>102.16</td>\n",
              "      <td>103.00125</td>\n",
              "      <td>101.084012</td>\n",
              "      <td>apple chinese manufacturer talk u car battery ...</td>\n",
              "    </tr>\n",
              "    <tr>\n",
              "      <th>2</th>\n",
              "      <td>2021-06-07</td>\n",
              "      <td>101.96875</td>\n",
              "      <td>5563253.0</td>\n",
              "      <td>102.16</td>\n",
              "      <td>103.00125</td>\n",
              "      <td>101.084012</td>\n",
              "      <td>applequots new quotprivate relayquot feature a...</td>\n",
              "    </tr>\n",
              "    <tr>\n",
              "      <th>3</th>\n",
              "      <td>2021-06-04</td>\n",
              "      <td>101.96875</td>\n",
              "      <td>7416675.0</td>\n",
              "      <td>102.16</td>\n",
              "      <td>103.00125</td>\n",
              "      <td>101.084012</td>\n",
              "      <td>global equity nearly grasp alltime record doll...</td>\n",
              "    </tr>\n",
              "    <tr>\n",
              "      <th>4</th>\n",
              "      <td>2021-06-03</td>\n",
              "      <td>101.96875</td>\n",
              "      <td>6643997.0</td>\n",
              "      <td>102.16</td>\n",
              "      <td>103.00125</td>\n",
              "      <td>101.084012</td>\n",
              "      <td>buy rh stock dip q1 earnings growth wwdc 2021 ...</td>\n",
              "    </tr>\n",
              "    <tr>\n",
              "      <th>...</th>\n",
              "      <td>...</td>\n",
              "      <td>...</td>\n",
              "      <td>...</td>\n",
              "      <td>...</td>\n",
              "      <td>...</td>\n",
              "      <td>...</td>\n",
              "      <td>...</td>\n",
              "    </tr>\n",
              "    <tr>\n",
              "      <th>3279</th>\n",
              "      <td>2021-06-19</td>\n",
              "      <td>NaN</td>\n",
              "      <td>NaN</td>\n",
              "      <td>NaN</td>\n",
              "      <td>NaN</td>\n",
              "      <td>NaN</td>\n",
              "      <td>best preprime day smartwatch deal apple watch ...</td>\n",
              "    </tr>\n",
              "    <tr>\n",
              "      <th>3280</th>\n",
              "      <td>2021-06-20</td>\n",
              "      <td>NaN</td>\n",
              "      <td>NaN</td>\n",
              "      <td>NaN</td>\n",
              "      <td>NaN</td>\n",
              "      <td>NaN</td>\n",
              "      <td>iphone 13 rumor apple fall event get closer se...</td>\n",
              "    </tr>\n",
              "    <tr>\n",
              "      <th>3281</th>\n",
              "      <td>2021-06-21</td>\n",
              "      <td>NaN</td>\n",
              "      <td>NaN</td>\n",
              "      <td>NaN</td>\n",
              "      <td>NaN</td>\n",
              "      <td>NaN</td>\n",
              "      <td>apple shortening new free tv plus trial year t...</td>\n",
              "    </tr>\n",
              "    <tr>\n",
              "      <th>3282</th>\n",
              "      <td>2021-06-22</td>\n",
              "      <td>NaN</td>\n",
              "      <td>NaN</td>\n",
              "      <td>NaN</td>\n",
              "      <td>NaN</td>\n",
              "      <td>NaN</td>\n",
              "      <td>google likely soon face antitrust claim play s...</td>\n",
              "    </tr>\n",
              "    <tr>\n",
              "      <th>3283</th>\n",
              "      <td>2021-06-23</td>\n",
              "      <td>NaN</td>\n",
              "      <td>NaN</td>\n",
              "      <td>NaN</td>\n",
              "      <td>NaN</td>\n",
              "      <td>NaN</td>\n",
              "      <td>french court set date apple case app store dev...</td>\n",
              "    </tr>\n",
              "  </tbody>\n",
              "</table>\n",
              "<p>3284 rows × 7 columns</p>\n",
              "</div>"
            ],
            "text/plain": [
              "           Date  ...                                          Headlines\n",
              "0    2021-06-09  ...  athenahealth set support io 15 feature allows ...\n",
              "1    2021-06-08  ...  apple chinese manufacturer talk u car battery ...\n",
              "2    2021-06-07  ...  applequots new quotprivate relayquot feature a...\n",
              "3    2021-06-04  ...  global equity nearly grasp alltime record doll...\n",
              "4    2021-06-03  ...  buy rh stock dip q1 earnings growth wwdc 2021 ...\n",
              "...         ...  ...                                                ...\n",
              "3279 2021-06-19  ...  best preprime day smartwatch deal apple watch ...\n",
              "3280 2021-06-20  ...  iphone 13 rumor apple fall event get closer se...\n",
              "3281 2021-06-21  ...  apple shortening new free tv plus trial year t...\n",
              "3282 2021-06-22  ...  google likely soon face antitrust claim play s...\n",
              "3283 2021-06-23  ...  french court set date apple case app store dev...\n",
              "\n",
              "[3284 rows x 7 columns]"
            ]
          },
          "metadata": {
            "tags": []
          },
          "execution_count": 37
        }
      ]
    },
    {
      "cell_type": "code",
      "metadata": {
        "colab": {
          "base_uri": "https://localhost:8080/"
        },
        "id": "qMuuH-64eGpH",
        "outputId": "43ec7a21-2736-443b-ce4e-e3711cded90c"
      },
      "source": [
        "qcom.isnull().sum()"
      ],
      "execution_count": 38,
      "outputs": [
        {
          "output_type": "execute_result",
          "data": {
            "text/plain": [
              "Date           0\n",
              "Close        748\n",
              "Volume       748\n",
              "Open         748\n",
              "High         748\n",
              "Low          748\n",
              "Headlines    919\n",
              "dtype: int64"
            ]
          },
          "metadata": {
            "tags": []
          },
          "execution_count": 38
        }
      ]
    },
    {
      "cell_type": "code",
      "metadata": {
        "id": "kpWV9xEUeYLo"
      },
      "source": [
        "qcom['Close'].fillna(qcom['Close'].mean(), inplace=True)\n",
        "qcom['Volume'].fillna(qcom['Volume'].mean(), inplace=True)\n",
        "qcom['Open'].fillna(qcom['Open'].mean(), inplace=True)\n",
        "qcom['High'].fillna(qcom['High'].mean(), inplace=True)\n",
        "qcom['Low'].fillna(qcom['Low'].mean(), inplace=True)"
      ],
      "execution_count": 40,
      "outputs": []
    },
    {
      "cell_type": "code",
      "metadata": {
        "colab": {
          "base_uri": "https://localhost:8080/",
          "height": 417
        },
        "id": "DdyTtdlleYSz",
        "outputId": "33772b27-77af-481b-db0a-66ab6f4f15db"
      },
      "source": [
        "qcom=qcom.fillna('')\n",
        "qcom.sort_values(ascending = True ,by = 'Date')\n",
        "qcom"
      ],
      "execution_count": 41,
      "outputs": [
        {
          "output_type": "execute_result",
          "data": {
            "text/html": [
              "<div>\n",
              "<style scoped>\n",
              "    .dataframe tbody tr th:only-of-type {\n",
              "        vertical-align: middle;\n",
              "    }\n",
              "\n",
              "    .dataframe tbody tr th {\n",
              "        vertical-align: top;\n",
              "    }\n",
              "\n",
              "    .dataframe thead th {\n",
              "        text-align: right;\n",
              "    }\n",
              "</style>\n",
              "<table border=\"1\" class=\"dataframe\">\n",
              "  <thead>\n",
              "    <tr style=\"text-align: right;\">\n",
              "      <th></th>\n",
              "      <th>Date</th>\n",
              "      <th>Close</th>\n",
              "      <th>Volume</th>\n",
              "      <th>Open</th>\n",
              "      <th>High</th>\n",
              "      <th>Low</th>\n",
              "      <th>Headlines</th>\n",
              "    </tr>\n",
              "  </thead>\n",
              "  <tbody>\n",
              "    <tr>\n",
              "      <th>0</th>\n",
              "      <td>2021-06-09</td>\n",
              "      <td>101.968750</td>\n",
              "      <td>6.717243e+06</td>\n",
              "      <td>102.160000</td>\n",
              "      <td>103.001250</td>\n",
              "      <td>101.084012</td>\n",
              "      <td>athenahealth set support io 15 feature allows ...</td>\n",
              "    </tr>\n",
              "    <tr>\n",
              "      <th>1</th>\n",
              "      <td>2021-06-08</td>\n",
              "      <td>101.968750</td>\n",
              "      <td>9.657889e+06</td>\n",
              "      <td>102.160000</td>\n",
              "      <td>103.001250</td>\n",
              "      <td>101.084012</td>\n",
              "      <td>apple chinese manufacturer talk u car battery ...</td>\n",
              "    </tr>\n",
              "    <tr>\n",
              "      <th>2</th>\n",
              "      <td>2021-06-07</td>\n",
              "      <td>101.968750</td>\n",
              "      <td>5.563253e+06</td>\n",
              "      <td>102.160000</td>\n",
              "      <td>103.001250</td>\n",
              "      <td>101.084012</td>\n",
              "      <td>applequots new quotprivate relayquot feature a...</td>\n",
              "    </tr>\n",
              "    <tr>\n",
              "      <th>3</th>\n",
              "      <td>2021-06-04</td>\n",
              "      <td>101.968750</td>\n",
              "      <td>7.416675e+06</td>\n",
              "      <td>102.160000</td>\n",
              "      <td>103.001250</td>\n",
              "      <td>101.084012</td>\n",
              "      <td>global equity nearly grasp alltime record doll...</td>\n",
              "    </tr>\n",
              "    <tr>\n",
              "      <th>4</th>\n",
              "      <td>2021-06-03</td>\n",
              "      <td>101.968750</td>\n",
              "      <td>6.643997e+06</td>\n",
              "      <td>102.160000</td>\n",
              "      <td>103.001250</td>\n",
              "      <td>101.084012</td>\n",
              "      <td>buy rh stock dip q1 earnings growth wwdc 2021 ...</td>\n",
              "    </tr>\n",
              "    <tr>\n",
              "      <th>...</th>\n",
              "      <td>...</td>\n",
              "      <td>...</td>\n",
              "      <td>...</td>\n",
              "      <td>...</td>\n",
              "      <td>...</td>\n",
              "      <td>...</td>\n",
              "      <td>...</td>\n",
              "    </tr>\n",
              "    <tr>\n",
              "      <th>3279</th>\n",
              "      <td>2021-06-19</td>\n",
              "      <td>68.069995</td>\n",
              "      <td>1.110193e+07</td>\n",
              "      <td>68.075366</td>\n",
              "      <td>68.761308</td>\n",
              "      <td>67.378060</td>\n",
              "      <td>best preprime day smartwatch deal apple watch ...</td>\n",
              "    </tr>\n",
              "    <tr>\n",
              "      <th>3280</th>\n",
              "      <td>2021-06-20</td>\n",
              "      <td>68.069995</td>\n",
              "      <td>1.110193e+07</td>\n",
              "      <td>68.075366</td>\n",
              "      <td>68.761308</td>\n",
              "      <td>67.378060</td>\n",
              "      <td>iphone 13 rumor apple fall event get closer se...</td>\n",
              "    </tr>\n",
              "    <tr>\n",
              "      <th>3281</th>\n",
              "      <td>2021-06-21</td>\n",
              "      <td>68.069995</td>\n",
              "      <td>1.110193e+07</td>\n",
              "      <td>68.075366</td>\n",
              "      <td>68.761308</td>\n",
              "      <td>67.378060</td>\n",
              "      <td>apple shortening new free tv plus trial year t...</td>\n",
              "    </tr>\n",
              "    <tr>\n",
              "      <th>3282</th>\n",
              "      <td>2021-06-22</td>\n",
              "      <td>68.069995</td>\n",
              "      <td>1.110193e+07</td>\n",
              "      <td>68.075366</td>\n",
              "      <td>68.761308</td>\n",
              "      <td>67.378060</td>\n",
              "      <td>google likely soon face antitrust claim play s...</td>\n",
              "    </tr>\n",
              "    <tr>\n",
              "      <th>3283</th>\n",
              "      <td>2021-06-23</td>\n",
              "      <td>68.069995</td>\n",
              "      <td>1.110193e+07</td>\n",
              "      <td>68.075366</td>\n",
              "      <td>68.761308</td>\n",
              "      <td>67.378060</td>\n",
              "      <td>french court set date apple case app store dev...</td>\n",
              "    </tr>\n",
              "  </tbody>\n",
              "</table>\n",
              "<p>3284 rows × 7 columns</p>\n",
              "</div>"
            ],
            "text/plain": [
              "           Date  ...                                          Headlines\n",
              "0    2021-06-09  ...  athenahealth set support io 15 feature allows ...\n",
              "1    2021-06-08  ...  apple chinese manufacturer talk u car battery ...\n",
              "2    2021-06-07  ...  applequots new quotprivate relayquot feature a...\n",
              "3    2021-06-04  ...  global equity nearly grasp alltime record doll...\n",
              "4    2021-06-03  ...  buy rh stock dip q1 earnings growth wwdc 2021 ...\n",
              "...         ...  ...                                                ...\n",
              "3279 2021-06-19  ...  best preprime day smartwatch deal apple watch ...\n",
              "3280 2021-06-20  ...  iphone 13 rumor apple fall event get closer se...\n",
              "3281 2021-06-21  ...  apple shortening new free tv plus trial year t...\n",
              "3282 2021-06-22  ...  google likely soon face antitrust claim play s...\n",
              "3283 2021-06-23  ...  french court set date apple case app store dev...\n",
              "\n",
              "[3284 rows x 7 columns]"
            ]
          },
          "metadata": {
            "tags": []
          },
          "execution_count": 41
        }
      ]
    },
    {
      "cell_type": "code",
      "metadata": {
        "colab": {
          "base_uri": "https://localhost:8080/"
        },
        "id": "bq_CyZBHeYZO",
        "outputId": "f4231362-aa72-47e4-93a8-9b5de98c2fc9"
      },
      "source": [
        "qcom.duplicated().sum()"
      ],
      "execution_count": 42,
      "outputs": [
        {
          "output_type": "execute_result",
          "data": {
            "text/plain": [
              "23"
            ]
          },
          "metadata": {
            "tags": []
          },
          "execution_count": 42
        }
      ]
    },
    {
      "cell_type": "code",
      "metadata": {
        "colab": {
          "base_uri": "https://localhost:8080/"
        },
        "id": "H1vTMJWHeYdW",
        "outputId": "7a4542df-f889-4f8f-eee4-ff5d14e7ba4f"
      },
      "source": [
        "qcom.drop_duplicates(inplace=True,ignore_index=True)\n",
        "qcom.duplicated().sum()"
      ],
      "execution_count": 44,
      "outputs": [
        {
          "output_type": "execute_result",
          "data": {
            "text/plain": [
              "0"
            ]
          },
          "metadata": {
            "tags": []
          },
          "execution_count": 44
        }
      ]
    },
    {
      "cell_type": "code",
      "metadata": {
        "colab": {
          "base_uri": "https://localhost:8080/",
          "height": 234
        },
        "id": "ZBqaVGqoeYhc",
        "outputId": "25712c4f-8b0a-4248-f9e7-44339130a14f"
      },
      "source": [
        "qcom.set_index(\"Date\", inplace = True)\n",
        "qcom.head()"
      ],
      "execution_count": 45,
      "outputs": [
        {
          "output_type": "execute_result",
          "data": {
            "text/html": [
              "<div>\n",
              "<style scoped>\n",
              "    .dataframe tbody tr th:only-of-type {\n",
              "        vertical-align: middle;\n",
              "    }\n",
              "\n",
              "    .dataframe tbody tr th {\n",
              "        vertical-align: top;\n",
              "    }\n",
              "\n",
              "    .dataframe thead th {\n",
              "        text-align: right;\n",
              "    }\n",
              "</style>\n",
              "<table border=\"1\" class=\"dataframe\">\n",
              "  <thead>\n",
              "    <tr style=\"text-align: right;\">\n",
              "      <th></th>\n",
              "      <th>Close</th>\n",
              "      <th>Volume</th>\n",
              "      <th>Open</th>\n",
              "      <th>High</th>\n",
              "      <th>Low</th>\n",
              "      <th>Headlines</th>\n",
              "    </tr>\n",
              "    <tr>\n",
              "      <th>Date</th>\n",
              "      <th></th>\n",
              "      <th></th>\n",
              "      <th></th>\n",
              "      <th></th>\n",
              "      <th></th>\n",
              "      <th></th>\n",
              "    </tr>\n",
              "  </thead>\n",
              "  <tbody>\n",
              "    <tr>\n",
              "      <th>2021-06-09</th>\n",
              "      <td>101.96875</td>\n",
              "      <td>6717243.0</td>\n",
              "      <td>102.16</td>\n",
              "      <td>103.00125</td>\n",
              "      <td>101.084012</td>\n",
              "      <td>athenahealth set support io 15 feature allows ...</td>\n",
              "    </tr>\n",
              "    <tr>\n",
              "      <th>2021-06-08</th>\n",
              "      <td>101.96875</td>\n",
              "      <td>9657889.0</td>\n",
              "      <td>102.16</td>\n",
              "      <td>103.00125</td>\n",
              "      <td>101.084012</td>\n",
              "      <td>apple chinese manufacturer talk u car battery ...</td>\n",
              "    </tr>\n",
              "    <tr>\n",
              "      <th>2021-06-07</th>\n",
              "      <td>101.96875</td>\n",
              "      <td>5563253.0</td>\n",
              "      <td>102.16</td>\n",
              "      <td>103.00125</td>\n",
              "      <td>101.084012</td>\n",
              "      <td>applequots new quotprivate relayquot feature a...</td>\n",
              "    </tr>\n",
              "    <tr>\n",
              "      <th>2021-06-04</th>\n",
              "      <td>101.96875</td>\n",
              "      <td>7416675.0</td>\n",
              "      <td>102.16</td>\n",
              "      <td>103.00125</td>\n",
              "      <td>101.084012</td>\n",
              "      <td>global equity nearly grasp alltime record doll...</td>\n",
              "    </tr>\n",
              "    <tr>\n",
              "      <th>2021-06-03</th>\n",
              "      <td>101.96875</td>\n",
              "      <td>6643997.0</td>\n",
              "      <td>102.16</td>\n",
              "      <td>103.00125</td>\n",
              "      <td>101.084012</td>\n",
              "      <td>buy rh stock dip q1 earnings growth wwdc 2021 ...</td>\n",
              "    </tr>\n",
              "  </tbody>\n",
              "</table>\n",
              "</div>"
            ],
            "text/plain": [
              "                Close  ...                                          Headlines\n",
              "Date                   ...                                                   \n",
              "2021-06-09  101.96875  ...  athenahealth set support io 15 feature allows ...\n",
              "2021-06-08  101.96875  ...  apple chinese manufacturer talk u car battery ...\n",
              "2021-06-07  101.96875  ...  applequots new quotprivate relayquot feature a...\n",
              "2021-06-04  101.96875  ...  global equity nearly grasp alltime record doll...\n",
              "2021-06-03  101.96875  ...  buy rh stock dip q1 earnings growth wwdc 2021 ...\n",
              "\n",
              "[5 rows x 6 columns]"
            ]
          },
          "metadata": {
            "tags": []
          },
          "execution_count": 45
        }
      ]
    },
    {
      "cell_type": "code",
      "metadata": {
        "colab": {
          "base_uri": "https://localhost:8080/",
          "height": 447
        },
        "id": "aQ9xzO19eYj6",
        "outputId": "4a9a229c-a194-498f-8272-dbac47c9ab46"
      },
      "source": [
        "qcom.sort_values(ascending = True ,by = 'Date')\n",
        "qcom"
      ],
      "execution_count": 46,
      "outputs": [
        {
          "output_type": "execute_result",
          "data": {
            "text/html": [
              "<div>\n",
              "<style scoped>\n",
              "    .dataframe tbody tr th:only-of-type {\n",
              "        vertical-align: middle;\n",
              "    }\n",
              "\n",
              "    .dataframe tbody tr th {\n",
              "        vertical-align: top;\n",
              "    }\n",
              "\n",
              "    .dataframe thead th {\n",
              "        text-align: right;\n",
              "    }\n",
              "</style>\n",
              "<table border=\"1\" class=\"dataframe\">\n",
              "  <thead>\n",
              "    <tr style=\"text-align: right;\">\n",
              "      <th></th>\n",
              "      <th>Close</th>\n",
              "      <th>Volume</th>\n",
              "      <th>Open</th>\n",
              "      <th>High</th>\n",
              "      <th>Low</th>\n",
              "      <th>Headlines</th>\n",
              "    </tr>\n",
              "    <tr>\n",
              "      <th>Date</th>\n",
              "      <th></th>\n",
              "      <th></th>\n",
              "      <th></th>\n",
              "      <th></th>\n",
              "      <th></th>\n",
              "      <th></th>\n",
              "    </tr>\n",
              "  </thead>\n",
              "  <tbody>\n",
              "    <tr>\n",
              "      <th>2021-06-09</th>\n",
              "      <td>101.968750</td>\n",
              "      <td>6.717243e+06</td>\n",
              "      <td>102.160000</td>\n",
              "      <td>103.001250</td>\n",
              "      <td>101.084012</td>\n",
              "      <td>athenahealth set support io 15 feature allows ...</td>\n",
              "    </tr>\n",
              "    <tr>\n",
              "      <th>2021-06-08</th>\n",
              "      <td>101.968750</td>\n",
              "      <td>9.657889e+06</td>\n",
              "      <td>102.160000</td>\n",
              "      <td>103.001250</td>\n",
              "      <td>101.084012</td>\n",
              "      <td>apple chinese manufacturer talk u car battery ...</td>\n",
              "    </tr>\n",
              "    <tr>\n",
              "      <th>2021-06-07</th>\n",
              "      <td>101.968750</td>\n",
              "      <td>5.563253e+06</td>\n",
              "      <td>102.160000</td>\n",
              "      <td>103.001250</td>\n",
              "      <td>101.084012</td>\n",
              "      <td>applequots new quotprivate relayquot feature a...</td>\n",
              "    </tr>\n",
              "    <tr>\n",
              "      <th>2021-06-04</th>\n",
              "      <td>101.968750</td>\n",
              "      <td>7.416675e+06</td>\n",
              "      <td>102.160000</td>\n",
              "      <td>103.001250</td>\n",
              "      <td>101.084012</td>\n",
              "      <td>global equity nearly grasp alltime record doll...</td>\n",
              "    </tr>\n",
              "    <tr>\n",
              "      <th>2021-06-03</th>\n",
              "      <td>101.968750</td>\n",
              "      <td>6.643997e+06</td>\n",
              "      <td>102.160000</td>\n",
              "      <td>103.001250</td>\n",
              "      <td>101.084012</td>\n",
              "      <td>buy rh stock dip q1 earnings growth wwdc 2021 ...</td>\n",
              "    </tr>\n",
              "    <tr>\n",
              "      <th>...</th>\n",
              "      <td>...</td>\n",
              "      <td>...</td>\n",
              "      <td>...</td>\n",
              "      <td>...</td>\n",
              "      <td>...</td>\n",
              "      <td>...</td>\n",
              "    </tr>\n",
              "    <tr>\n",
              "      <th>2021-06-19</th>\n",
              "      <td>68.069995</td>\n",
              "      <td>1.110193e+07</td>\n",
              "      <td>68.075366</td>\n",
              "      <td>68.761308</td>\n",
              "      <td>67.378060</td>\n",
              "      <td>best preprime day smartwatch deal apple watch ...</td>\n",
              "    </tr>\n",
              "    <tr>\n",
              "      <th>2021-06-20</th>\n",
              "      <td>68.069995</td>\n",
              "      <td>1.110193e+07</td>\n",
              "      <td>68.075366</td>\n",
              "      <td>68.761308</td>\n",
              "      <td>67.378060</td>\n",
              "      <td>iphone 13 rumor apple fall event get closer se...</td>\n",
              "    </tr>\n",
              "    <tr>\n",
              "      <th>2021-06-21</th>\n",
              "      <td>68.069995</td>\n",
              "      <td>1.110193e+07</td>\n",
              "      <td>68.075366</td>\n",
              "      <td>68.761308</td>\n",
              "      <td>67.378060</td>\n",
              "      <td>apple shortening new free tv plus trial year t...</td>\n",
              "    </tr>\n",
              "    <tr>\n",
              "      <th>2021-06-22</th>\n",
              "      <td>68.069995</td>\n",
              "      <td>1.110193e+07</td>\n",
              "      <td>68.075366</td>\n",
              "      <td>68.761308</td>\n",
              "      <td>67.378060</td>\n",
              "      <td>google likely soon face antitrust claim play s...</td>\n",
              "    </tr>\n",
              "    <tr>\n",
              "      <th>2021-06-23</th>\n",
              "      <td>68.069995</td>\n",
              "      <td>1.110193e+07</td>\n",
              "      <td>68.075366</td>\n",
              "      <td>68.761308</td>\n",
              "      <td>67.378060</td>\n",
              "      <td>french court set date apple case app store dev...</td>\n",
              "    </tr>\n",
              "  </tbody>\n",
              "</table>\n",
              "<p>3261 rows × 6 columns</p>\n",
              "</div>"
            ],
            "text/plain": [
              "                 Close  ...                                          Headlines\n",
              "Date                    ...                                                   \n",
              "2021-06-09  101.968750  ...  athenahealth set support io 15 feature allows ...\n",
              "2021-06-08  101.968750  ...  apple chinese manufacturer talk u car battery ...\n",
              "2021-06-07  101.968750  ...  applequots new quotprivate relayquot feature a...\n",
              "2021-06-04  101.968750  ...  global equity nearly grasp alltime record doll...\n",
              "2021-06-03  101.968750  ...  buy rh stock dip q1 earnings growth wwdc 2021 ...\n",
              "...                ...  ...                                                ...\n",
              "2021-06-19   68.069995  ...  best preprime day smartwatch deal apple watch ...\n",
              "2021-06-20   68.069995  ...  iphone 13 rumor apple fall event get closer se...\n",
              "2021-06-21   68.069995  ...  apple shortening new free tv plus trial year t...\n",
              "2021-06-22   68.069995  ...  google likely soon face antitrust claim play s...\n",
              "2021-06-23   68.069995  ...  french court set date apple case app store dev...\n",
              "\n",
              "[3261 rows x 6 columns]"
            ]
          },
          "metadata": {
            "tags": []
          },
          "execution_count": 46
        }
      ]
    },
    {
      "cell_type": "code",
      "metadata": {
        "colab": {
          "base_uri": "https://localhost:8080/"
        },
        "id": "mSiHPaE6fE74",
        "outputId": "df64d4d1-1687-43ea-a83a-e9786cadb666"
      },
      "source": [
        "qcom.duplicated().sum()"
      ],
      "execution_count": 47,
      "outputs": [
        {
          "output_type": "execute_result",
          "data": {
            "text/plain": [
              "2"
            ]
          },
          "metadata": {
            "tags": []
          },
          "execution_count": 47
        }
      ]
    },
    {
      "cell_type": "code",
      "metadata": {
        "colab": {
          "base_uri": "https://localhost:8080/",
          "height": 447
        },
        "id": "_psl57sTfN0Z",
        "outputId": "639a2c53-7227-4b5f-806b-a247dbf2ee4a"
      },
      "source": [
        "qcom.drop_duplicates()"
      ],
      "execution_count": 48,
      "outputs": [
        {
          "output_type": "execute_result",
          "data": {
            "text/html": [
              "<div>\n",
              "<style scoped>\n",
              "    .dataframe tbody tr th:only-of-type {\n",
              "        vertical-align: middle;\n",
              "    }\n",
              "\n",
              "    .dataframe tbody tr th {\n",
              "        vertical-align: top;\n",
              "    }\n",
              "\n",
              "    .dataframe thead th {\n",
              "        text-align: right;\n",
              "    }\n",
              "</style>\n",
              "<table border=\"1\" class=\"dataframe\">\n",
              "  <thead>\n",
              "    <tr style=\"text-align: right;\">\n",
              "      <th></th>\n",
              "      <th>Close</th>\n",
              "      <th>Volume</th>\n",
              "      <th>Open</th>\n",
              "      <th>High</th>\n",
              "      <th>Low</th>\n",
              "      <th>Headlines</th>\n",
              "    </tr>\n",
              "    <tr>\n",
              "      <th>Date</th>\n",
              "      <th></th>\n",
              "      <th></th>\n",
              "      <th></th>\n",
              "      <th></th>\n",
              "      <th></th>\n",
              "      <th></th>\n",
              "    </tr>\n",
              "  </thead>\n",
              "  <tbody>\n",
              "    <tr>\n",
              "      <th>2021-06-09</th>\n",
              "      <td>101.968750</td>\n",
              "      <td>6.717243e+06</td>\n",
              "      <td>102.160000</td>\n",
              "      <td>103.001250</td>\n",
              "      <td>101.084012</td>\n",
              "      <td>athenahealth set support io 15 feature allows ...</td>\n",
              "    </tr>\n",
              "    <tr>\n",
              "      <th>2021-06-08</th>\n",
              "      <td>101.968750</td>\n",
              "      <td>9.657889e+06</td>\n",
              "      <td>102.160000</td>\n",
              "      <td>103.001250</td>\n",
              "      <td>101.084012</td>\n",
              "      <td>apple chinese manufacturer talk u car battery ...</td>\n",
              "    </tr>\n",
              "    <tr>\n",
              "      <th>2021-06-07</th>\n",
              "      <td>101.968750</td>\n",
              "      <td>5.563253e+06</td>\n",
              "      <td>102.160000</td>\n",
              "      <td>103.001250</td>\n",
              "      <td>101.084012</td>\n",
              "      <td>applequots new quotprivate relayquot feature a...</td>\n",
              "    </tr>\n",
              "    <tr>\n",
              "      <th>2021-06-04</th>\n",
              "      <td>101.968750</td>\n",
              "      <td>7.416675e+06</td>\n",
              "      <td>102.160000</td>\n",
              "      <td>103.001250</td>\n",
              "      <td>101.084012</td>\n",
              "      <td>global equity nearly grasp alltime record doll...</td>\n",
              "    </tr>\n",
              "    <tr>\n",
              "      <th>2021-06-03</th>\n",
              "      <td>101.968750</td>\n",
              "      <td>6.643997e+06</td>\n",
              "      <td>102.160000</td>\n",
              "      <td>103.001250</td>\n",
              "      <td>101.084012</td>\n",
              "      <td>buy rh stock dip q1 earnings growth wwdc 2021 ...</td>\n",
              "    </tr>\n",
              "    <tr>\n",
              "      <th>...</th>\n",
              "      <td>...</td>\n",
              "      <td>...</td>\n",
              "      <td>...</td>\n",
              "      <td>...</td>\n",
              "      <td>...</td>\n",
              "      <td>...</td>\n",
              "    </tr>\n",
              "    <tr>\n",
              "      <th>2021-06-19</th>\n",
              "      <td>68.069995</td>\n",
              "      <td>1.110193e+07</td>\n",
              "      <td>68.075366</td>\n",
              "      <td>68.761308</td>\n",
              "      <td>67.378060</td>\n",
              "      <td>best preprime day smartwatch deal apple watch ...</td>\n",
              "    </tr>\n",
              "    <tr>\n",
              "      <th>2021-06-20</th>\n",
              "      <td>68.069995</td>\n",
              "      <td>1.110193e+07</td>\n",
              "      <td>68.075366</td>\n",
              "      <td>68.761308</td>\n",
              "      <td>67.378060</td>\n",
              "      <td>iphone 13 rumor apple fall event get closer se...</td>\n",
              "    </tr>\n",
              "    <tr>\n",
              "      <th>2021-06-21</th>\n",
              "      <td>68.069995</td>\n",
              "      <td>1.110193e+07</td>\n",
              "      <td>68.075366</td>\n",
              "      <td>68.761308</td>\n",
              "      <td>67.378060</td>\n",
              "      <td>apple shortening new free tv plus trial year t...</td>\n",
              "    </tr>\n",
              "    <tr>\n",
              "      <th>2021-06-22</th>\n",
              "      <td>68.069995</td>\n",
              "      <td>1.110193e+07</td>\n",
              "      <td>68.075366</td>\n",
              "      <td>68.761308</td>\n",
              "      <td>67.378060</td>\n",
              "      <td>google likely soon face antitrust claim play s...</td>\n",
              "    </tr>\n",
              "    <tr>\n",
              "      <th>2021-06-23</th>\n",
              "      <td>68.069995</td>\n",
              "      <td>1.110193e+07</td>\n",
              "      <td>68.075366</td>\n",
              "      <td>68.761308</td>\n",
              "      <td>67.378060</td>\n",
              "      <td>french court set date apple case app store dev...</td>\n",
              "    </tr>\n",
              "  </tbody>\n",
              "</table>\n",
              "<p>3259 rows × 6 columns</p>\n",
              "</div>"
            ],
            "text/plain": [
              "                 Close  ...                                          Headlines\n",
              "Date                    ...                                                   \n",
              "2021-06-09  101.968750  ...  athenahealth set support io 15 feature allows ...\n",
              "2021-06-08  101.968750  ...  apple chinese manufacturer talk u car battery ...\n",
              "2021-06-07  101.968750  ...  applequots new quotprivate relayquot feature a...\n",
              "2021-06-04  101.968750  ...  global equity nearly grasp alltime record doll...\n",
              "2021-06-03  101.968750  ...  buy rh stock dip q1 earnings growth wwdc 2021 ...\n",
              "...                ...  ...                                                ...\n",
              "2021-06-19   68.069995  ...  best preprime day smartwatch deal apple watch ...\n",
              "2021-06-20   68.069995  ...  iphone 13 rumor apple fall event get closer se...\n",
              "2021-06-21   68.069995  ...  apple shortening new free tv plus trial year t...\n",
              "2021-06-22   68.069995  ...  google likely soon face antitrust claim play s...\n",
              "2021-06-23   68.069995  ...  french court set date apple case app store dev...\n",
              "\n",
              "[3259 rows x 6 columns]"
            ]
          },
          "metadata": {
            "tags": []
          },
          "execution_count": 48
        }
      ]
    },
    {
      "cell_type": "code",
      "metadata": {
        "colab": {
          "base_uri": "https://localhost:8080/"
        },
        "id": "9clEi3qKfawR",
        "outputId": "1d8f953c-b368-4439-9810-bc0af889d2d8"
      },
      "source": [
        "qcom[:].isnull().sum()"
      ],
      "execution_count": 49,
      "outputs": [
        {
          "output_type": "execute_result",
          "data": {
            "text/plain": [
              "Close        0\n",
              "Volume       0\n",
              "Open         0\n",
              "High         0\n",
              "Low          0\n",
              "Headlines    0\n",
              "dtype: int64"
            ]
          },
          "metadata": {
            "tags": []
          },
          "execution_count": 49
        }
      ]
    },
    {
      "cell_type": "code",
      "metadata": {
        "colab": {
          "base_uri": "https://localhost:8080/"
        },
        "id": "wS4rQ_XXffnM",
        "outputId": "0991eaef-ea06-4782-aa5d-3d7d9bfd1a2f"
      },
      "source": [
        "import nltk\n",
        "nltk.download('vader_lexicon')\n",
        "from nltk.sentiment.vader import SentimentIntensityAnalyzer\n",
        "import unicodedata"
      ],
      "execution_count": 50,
      "outputs": [
        {
          "output_type": "stream",
          "text": [
            "[nltk_data] Downloading package vader_lexicon to /root/nltk_data...\n"
          ],
          "name": "stdout"
        },
        {
          "output_type": "stream",
          "text": [
            "/usr/local/lib/python3.7/dist-packages/nltk/twitter/__init__.py:20: UserWarning:\n",
            "\n",
            "The twython library has not been installed. Some functionality from the twitter package will not be available.\n",
            "\n"
          ],
          "name": "stderr"
        }
      ]
    },
    {
      "cell_type": "code",
      "metadata": {
        "id": "x3ntRsHqffuq"
      },
      "source": [
        "sid = SentimentIntensityAnalyzer()\n",
        "\n",
        "# calculating sentiment scores\n",
        "qcom['compound'] = qcom['Headlines'].apply(lambda x: sid.polarity_scores(x)['compound'])\n",
        "qcom['negative'] = qcom['Headlines'].apply(lambda x: sid.polarity_scores(x)['neg'])\n",
        "qcom['neutral'] = qcom['Headlines'].apply(lambda x: sid.polarity_scores(x)['neu'])\n",
        "qcom['positive'] = qcom['Headlines'].apply(lambda x: sid.polarity_scores(x)['pos'])"
      ],
      "execution_count": 51,
      "outputs": []
    },
    {
      "cell_type": "code",
      "metadata": {
        "id": "Zj7mQ50vffzC"
      },
      "source": [
        "from scipy import stats"
      ],
      "execution_count": 52,
      "outputs": []
    },
    {
      "cell_type": "code",
      "metadata": {
        "id": "g-LjkpD6ff6i"
      },
      "source": [
        "# Adding Subjectivity and Polarity columns\n",
        "from sklearn.metrics import accuracy_score,classification_report\n",
        "from textblob import TextBlob\n",
        "def getsubj(text):\n",
        "  return TextBlob(text).sentiment.subjectivity\n",
        "def getpolarity(text):\n",
        "  return TextBlob(text).sentiment.polarity"
      ],
      "execution_count": 53,
      "outputs": []
    },
    {
      "cell_type": "code",
      "metadata": {
        "colab": {
          "base_uri": "https://localhost:8080/",
          "height": 447
        },
        "id": "EP_c87wFfvwo",
        "outputId": "2aab863a-8edd-4c9a-ad73-b18f9f0dd206"
      },
      "source": [
        "qcom['Subjectivity']=qcom['Headlines'].apply(getsubj)\n",
        "qcom['Polarity']=qcom['Headlines'].apply(getpolarity)\n",
        "qcom"
      ],
      "execution_count": 54,
      "outputs": [
        {
          "output_type": "execute_result",
          "data": {
            "text/html": [
              "<div>\n",
              "<style scoped>\n",
              "    .dataframe tbody tr th:only-of-type {\n",
              "        vertical-align: middle;\n",
              "    }\n",
              "\n",
              "    .dataframe tbody tr th {\n",
              "        vertical-align: top;\n",
              "    }\n",
              "\n",
              "    .dataframe thead th {\n",
              "        text-align: right;\n",
              "    }\n",
              "</style>\n",
              "<table border=\"1\" class=\"dataframe\">\n",
              "  <thead>\n",
              "    <tr style=\"text-align: right;\">\n",
              "      <th></th>\n",
              "      <th>Close</th>\n",
              "      <th>Volume</th>\n",
              "      <th>Open</th>\n",
              "      <th>High</th>\n",
              "      <th>Low</th>\n",
              "      <th>Headlines</th>\n",
              "      <th>compound</th>\n",
              "      <th>negative</th>\n",
              "      <th>neutral</th>\n",
              "      <th>positive</th>\n",
              "      <th>Subjectivity</th>\n",
              "      <th>Polarity</th>\n",
              "    </tr>\n",
              "    <tr>\n",
              "      <th>Date</th>\n",
              "      <th></th>\n",
              "      <th></th>\n",
              "      <th></th>\n",
              "      <th></th>\n",
              "      <th></th>\n",
              "      <th></th>\n",
              "      <th></th>\n",
              "      <th></th>\n",
              "      <th></th>\n",
              "      <th></th>\n",
              "      <th></th>\n",
              "      <th></th>\n",
              "    </tr>\n",
              "  </thead>\n",
              "  <tbody>\n",
              "    <tr>\n",
              "      <th>2021-06-09</th>\n",
              "      <td>101.968750</td>\n",
              "      <td>6.717243e+06</td>\n",
              "      <td>102.160000</td>\n",
              "      <td>103.001250</td>\n",
              "      <td>101.084012</td>\n",
              "      <td>athenahealth set support io 15 feature allows ...</td>\n",
              "      <td>0.9905</td>\n",
              "      <td>0.051</td>\n",
              "      <td>0.850</td>\n",
              "      <td>0.099</td>\n",
              "      <td>0.372039</td>\n",
              "      <td>0.111292</td>\n",
              "    </tr>\n",
              "    <tr>\n",
              "      <th>2021-06-08</th>\n",
              "      <td>101.968750</td>\n",
              "      <td>9.657889e+06</td>\n",
              "      <td>102.160000</td>\n",
              "      <td>103.001250</td>\n",
              "      <td>101.084012</td>\n",
              "      <td>apple chinese manufacturer talk u car battery ...</td>\n",
              "      <td>0.9972</td>\n",
              "      <td>0.037</td>\n",
              "      <td>0.830</td>\n",
              "      <td>0.133</td>\n",
              "      <td>0.441778</td>\n",
              "      <td>0.148372</td>\n",
              "    </tr>\n",
              "    <tr>\n",
              "      <th>2021-06-07</th>\n",
              "      <td>101.968750</td>\n",
              "      <td>5.563253e+06</td>\n",
              "      <td>102.160000</td>\n",
              "      <td>103.001250</td>\n",
              "      <td>101.084012</td>\n",
              "      <td>applequots new quotprivate relayquot feature a...</td>\n",
              "      <td>0.9972</td>\n",
              "      <td>0.023</td>\n",
              "      <td>0.869</td>\n",
              "      <td>0.109</td>\n",
              "      <td>0.472968</td>\n",
              "      <td>0.174002</td>\n",
              "    </tr>\n",
              "    <tr>\n",
              "      <th>2021-06-04</th>\n",
              "      <td>101.968750</td>\n",
              "      <td>7.416675e+06</td>\n",
              "      <td>102.160000</td>\n",
              "      <td>103.001250</td>\n",
              "      <td>101.084012</td>\n",
              "      <td>global equity nearly grasp alltime record doll...</td>\n",
              "      <td>0.9953</td>\n",
              "      <td>0.038</td>\n",
              "      <td>0.849</td>\n",
              "      <td>0.113</td>\n",
              "      <td>0.406474</td>\n",
              "      <td>0.112212</td>\n",
              "    </tr>\n",
              "    <tr>\n",
              "      <th>2021-06-03</th>\n",
              "      <td>101.968750</td>\n",
              "      <td>6.643997e+06</td>\n",
              "      <td>102.160000</td>\n",
              "      <td>103.001250</td>\n",
              "      <td>101.084012</td>\n",
              "      <td>buy rh stock dip q1 earnings growth wwdc 2021 ...</td>\n",
              "      <td>0.9926</td>\n",
              "      <td>0.059</td>\n",
              "      <td>0.822</td>\n",
              "      <td>0.119</td>\n",
              "      <td>0.323765</td>\n",
              "      <td>0.088232</td>\n",
              "    </tr>\n",
              "    <tr>\n",
              "      <th>...</th>\n",
              "      <td>...</td>\n",
              "      <td>...</td>\n",
              "      <td>...</td>\n",
              "      <td>...</td>\n",
              "      <td>...</td>\n",
              "      <td>...</td>\n",
              "      <td>...</td>\n",
              "      <td>...</td>\n",
              "      <td>...</td>\n",
              "      <td>...</td>\n",
              "      <td>...</td>\n",
              "      <td>...</td>\n",
              "    </tr>\n",
              "    <tr>\n",
              "      <th>2021-06-19</th>\n",
              "      <td>68.069995</td>\n",
              "      <td>1.110193e+07</td>\n",
              "      <td>68.075366</td>\n",
              "      <td>68.761308</td>\n",
              "      <td>67.378060</td>\n",
              "      <td>best preprime day smartwatch deal apple watch ...</td>\n",
              "      <td>0.9910</td>\n",
              "      <td>0.029</td>\n",
              "      <td>0.796</td>\n",
              "      <td>0.175</td>\n",
              "      <td>0.391640</td>\n",
              "      <td>0.148395</td>\n",
              "    </tr>\n",
              "    <tr>\n",
              "      <th>2021-06-20</th>\n",
              "      <td>68.069995</td>\n",
              "      <td>1.110193e+07</td>\n",
              "      <td>68.075366</td>\n",
              "      <td>68.761308</td>\n",
              "      <td>67.378060</td>\n",
              "      <td>iphone 13 rumor apple fall event get closer se...</td>\n",
              "      <td>0.9947</td>\n",
              "      <td>0.039</td>\n",
              "      <td>0.777</td>\n",
              "      <td>0.184</td>\n",
              "      <td>0.372926</td>\n",
              "      <td>0.308141</td>\n",
              "    </tr>\n",
              "    <tr>\n",
              "      <th>2021-06-21</th>\n",
              "      <td>68.069995</td>\n",
              "      <td>1.110193e+07</td>\n",
              "      <td>68.075366</td>\n",
              "      <td>68.761308</td>\n",
              "      <td>67.378060</td>\n",
              "      <td>apple shortening new free tv plus trial year t...</td>\n",
              "      <td>0.9988</td>\n",
              "      <td>0.040</td>\n",
              "      <td>0.777</td>\n",
              "      <td>0.183</td>\n",
              "      <td>0.362845</td>\n",
              "      <td>0.272403</td>\n",
              "    </tr>\n",
              "    <tr>\n",
              "      <th>2021-06-22</th>\n",
              "      <td>68.069995</td>\n",
              "      <td>1.110193e+07</td>\n",
              "      <td>68.075366</td>\n",
              "      <td>68.761308</td>\n",
              "      <td>67.378060</td>\n",
              "      <td>google likely soon face antitrust claim play s...</td>\n",
              "      <td>0.9994</td>\n",
              "      <td>0.041</td>\n",
              "      <td>0.731</td>\n",
              "      <td>0.228</td>\n",
              "      <td>0.482284</td>\n",
              "      <td>0.308100</td>\n",
              "    </tr>\n",
              "    <tr>\n",
              "      <th>2021-06-23</th>\n",
              "      <td>68.069995</td>\n",
              "      <td>1.110193e+07</td>\n",
              "      <td>68.075366</td>\n",
              "      <td>68.761308</td>\n",
              "      <td>67.378060</td>\n",
              "      <td>french court set date apple case app store dev...</td>\n",
              "      <td>0.9976</td>\n",
              "      <td>0.065</td>\n",
              "      <td>0.770</td>\n",
              "      <td>0.165</td>\n",
              "      <td>0.425555</td>\n",
              "      <td>0.199220</td>\n",
              "    </tr>\n",
              "  </tbody>\n",
              "</table>\n",
              "<p>3261 rows × 12 columns</p>\n",
              "</div>"
            ],
            "text/plain": [
              "                 Close        Volume  ...  Subjectivity  Polarity\n",
              "Date                                  ...                        \n",
              "2021-06-09  101.968750  6.717243e+06  ...      0.372039  0.111292\n",
              "2021-06-08  101.968750  9.657889e+06  ...      0.441778  0.148372\n",
              "2021-06-07  101.968750  5.563253e+06  ...      0.472968  0.174002\n",
              "2021-06-04  101.968750  7.416675e+06  ...      0.406474  0.112212\n",
              "2021-06-03  101.968750  6.643997e+06  ...      0.323765  0.088232\n",
              "...                ...           ...  ...           ...       ...\n",
              "2021-06-19   68.069995  1.110193e+07  ...      0.391640  0.148395\n",
              "2021-06-20   68.069995  1.110193e+07  ...      0.372926  0.308141\n",
              "2021-06-21   68.069995  1.110193e+07  ...      0.362845  0.272403\n",
              "2021-06-22   68.069995  1.110193e+07  ...      0.482284  0.308100\n",
              "2021-06-23   68.069995  1.110193e+07  ...      0.425555  0.199220\n",
              "\n",
              "[3261 rows x 12 columns]"
            ]
          },
          "metadata": {
            "tags": []
          },
          "execution_count": 54
        }
      ]
    },
    {
      "cell_type": "code",
      "metadata": {
        "colab": {
          "base_uri": "https://localhost:8080/",
          "height": 234
        },
        "id": "eAQpMQBTfv4g",
        "outputId": "5bbd31f1-4b09-40b1-d025-f8d36abc82c8"
      },
      "source": [
        "\n",
        "# Extracting data req for model building\n",
        "qcom = qcom[['Close', 'compound', 'negative', 'neutral', 'positive', 'Open', 'High', 'Low', 'Volume','Subjectivity','Polarity']]\n",
        "qcom.head()"
      ],
      "execution_count": 55,
      "outputs": [
        {
          "output_type": "execute_result",
          "data": {
            "text/html": [
              "<div>\n",
              "<style scoped>\n",
              "    .dataframe tbody tr th:only-of-type {\n",
              "        vertical-align: middle;\n",
              "    }\n",
              "\n",
              "    .dataframe tbody tr th {\n",
              "        vertical-align: top;\n",
              "    }\n",
              "\n",
              "    .dataframe thead th {\n",
              "        text-align: right;\n",
              "    }\n",
              "</style>\n",
              "<table border=\"1\" class=\"dataframe\">\n",
              "  <thead>\n",
              "    <tr style=\"text-align: right;\">\n",
              "      <th></th>\n",
              "      <th>Close</th>\n",
              "      <th>compound</th>\n",
              "      <th>negative</th>\n",
              "      <th>neutral</th>\n",
              "      <th>positive</th>\n",
              "      <th>Open</th>\n",
              "      <th>High</th>\n",
              "      <th>Low</th>\n",
              "      <th>Volume</th>\n",
              "      <th>Subjectivity</th>\n",
              "      <th>Polarity</th>\n",
              "    </tr>\n",
              "    <tr>\n",
              "      <th>Date</th>\n",
              "      <th></th>\n",
              "      <th></th>\n",
              "      <th></th>\n",
              "      <th></th>\n",
              "      <th></th>\n",
              "      <th></th>\n",
              "      <th></th>\n",
              "      <th></th>\n",
              "      <th></th>\n",
              "      <th></th>\n",
              "      <th></th>\n",
              "    </tr>\n",
              "  </thead>\n",
              "  <tbody>\n",
              "    <tr>\n",
              "      <th>2021-06-09</th>\n",
              "      <td>101.96875</td>\n",
              "      <td>0.9905</td>\n",
              "      <td>0.051</td>\n",
              "      <td>0.850</td>\n",
              "      <td>0.099</td>\n",
              "      <td>102.16</td>\n",
              "      <td>103.00125</td>\n",
              "      <td>101.084012</td>\n",
              "      <td>6717243.0</td>\n",
              "      <td>0.372039</td>\n",
              "      <td>0.111292</td>\n",
              "    </tr>\n",
              "    <tr>\n",
              "      <th>2021-06-08</th>\n",
              "      <td>101.96875</td>\n",
              "      <td>0.9972</td>\n",
              "      <td>0.037</td>\n",
              "      <td>0.830</td>\n",
              "      <td>0.133</td>\n",
              "      <td>102.16</td>\n",
              "      <td>103.00125</td>\n",
              "      <td>101.084012</td>\n",
              "      <td>9657889.0</td>\n",
              "      <td>0.441778</td>\n",
              "      <td>0.148372</td>\n",
              "    </tr>\n",
              "    <tr>\n",
              "      <th>2021-06-07</th>\n",
              "      <td>101.96875</td>\n",
              "      <td>0.9972</td>\n",
              "      <td>0.023</td>\n",
              "      <td>0.869</td>\n",
              "      <td>0.109</td>\n",
              "      <td>102.16</td>\n",
              "      <td>103.00125</td>\n",
              "      <td>101.084012</td>\n",
              "      <td>5563253.0</td>\n",
              "      <td>0.472968</td>\n",
              "      <td>0.174002</td>\n",
              "    </tr>\n",
              "    <tr>\n",
              "      <th>2021-06-04</th>\n",
              "      <td>101.96875</td>\n",
              "      <td>0.9953</td>\n",
              "      <td>0.038</td>\n",
              "      <td>0.849</td>\n",
              "      <td>0.113</td>\n",
              "      <td>102.16</td>\n",
              "      <td>103.00125</td>\n",
              "      <td>101.084012</td>\n",
              "      <td>7416675.0</td>\n",
              "      <td>0.406474</td>\n",
              "      <td>0.112212</td>\n",
              "    </tr>\n",
              "    <tr>\n",
              "      <th>2021-06-03</th>\n",
              "      <td>101.96875</td>\n",
              "      <td>0.9926</td>\n",
              "      <td>0.059</td>\n",
              "      <td>0.822</td>\n",
              "      <td>0.119</td>\n",
              "      <td>102.16</td>\n",
              "      <td>103.00125</td>\n",
              "      <td>101.084012</td>\n",
              "      <td>6643997.0</td>\n",
              "      <td>0.323765</td>\n",
              "      <td>0.088232</td>\n",
              "    </tr>\n",
              "  </tbody>\n",
              "</table>\n",
              "</div>"
            ],
            "text/plain": [
              "                Close  compound  negative  ...     Volume  Subjectivity  Polarity\n",
              "Date                                       ...                                   \n",
              "2021-06-09  101.96875    0.9905     0.051  ...  6717243.0      0.372039  0.111292\n",
              "2021-06-08  101.96875    0.9972     0.037  ...  9657889.0      0.441778  0.148372\n",
              "2021-06-07  101.96875    0.9972     0.023  ...  5563253.0      0.472968  0.174002\n",
              "2021-06-04  101.96875    0.9953     0.038  ...  7416675.0      0.406474  0.112212\n",
              "2021-06-03  101.96875    0.9926     0.059  ...  6643997.0      0.323765  0.088232\n",
              "\n",
              "[5 rows x 11 columns]"
            ]
          },
          "metadata": {
            "tags": []
          },
          "execution_count": 55
        }
      ]
    },
    {
      "cell_type": "code",
      "metadata": {
        "colab": {
          "base_uri": "https://localhost:8080/"
        },
        "id": "LHSL0frIfv9P",
        "outputId": "8a0cc27f-182a-4a48-970d-1f36b6274b05"
      },
      "source": [
        "qcom.dtypes"
      ],
      "execution_count": 56,
      "outputs": [
        {
          "output_type": "execute_result",
          "data": {
            "text/plain": [
              "Close           float64\n",
              "compound        float64\n",
              "negative        float64\n",
              "neutral         float64\n",
              "positive        float64\n",
              "Open            float64\n",
              "High            float64\n",
              "Low             float64\n",
              "Volume          float64\n",
              "Subjectivity    float64\n",
              "Polarity        float64\n",
              "dtype: object"
            ]
          },
          "metadata": {
            "tags": []
          },
          "execution_count": 56
        }
      ]
    },
    {
      "cell_type": "code",
      "metadata": {
        "id": "AmICaYs3gEu4"
      },
      "source": [
        "X = qcom.loc[:,'compound':'Polarity']\n",
        "y = qcom['Close']"
      ],
      "execution_count": 57,
      "outputs": []
    },
    {
      "cell_type": "code",
      "metadata": {
        "id": "RWgZubLzgE8J"
      },
      "source": [
        "from sklearn.model_selection import train_test_split #for building regression model\n",
        "from sklearn.preprocessing import MinMaxScaler  #For preprocessing\n",
        "from sklearn.preprocessing import StandardScaler\n",
        "from sklearn.metrics import mean_squared_error as mse   #For model evaluation\n",
        "from sklearn.metrics import r2_score"
      ],
      "execution_count": 58,
      "outputs": []
    },
    {
      "cell_type": "code",
      "metadata": {
        "id": "Ho2YwDgigFFW"
      },
      "source": [
        "X_train,X_test,y_train,y_test = train_test_split(X,y,test_size = 0.2,random_state = 0)"
      ],
      "execution_count": 59,
      "outputs": []
    },
    {
      "cell_type": "code",
      "metadata": {
        "colab": {
          "base_uri": "https://localhost:8080/"
        },
        "id": "DZVul3pRgRZ0",
        "outputId": "90abb022-4917-4a21-9f8a-a1d03e45f4b5"
      },
      "source": [
        "from sklearn.linear_model import LinearRegression\n",
        "l = LinearRegression()\n",
        "l.fit(X_train,y_train)"
      ],
      "execution_count": 60,
      "outputs": [
        {
          "output_type": "execute_result",
          "data": {
            "text/plain": [
              "LinearRegression(copy_X=True, fit_intercept=True, n_jobs=None, normalize=False)"
            ]
          },
          "metadata": {
            "tags": []
          },
          "execution_count": 60
        }
      ]
    },
    {
      "cell_type": "code",
      "metadata": {
        "colab": {
          "base_uri": "https://localhost:8080/"
        },
        "id": "99OWVA7lgRfH",
        "outputId": "9835681f-ef4d-4daf-c2c8-b1f2c84c2beb"
      },
      "source": [
        "print(l.intercept_)"
      ],
      "execution_count": 61,
      "outputs": [
        {
          "output_type": "stream",
          "text": [
            "0.1328964436590354\n"
          ],
          "name": "stdout"
        }
      ]
    },
    {
      "cell_type": "code",
      "metadata": {
        "id": "D_oCmFCogRjd"
      },
      "source": [
        "yhat=l.predict(X_test)"
      ],
      "execution_count": 62,
      "outputs": []
    },
    {
      "cell_type": "code",
      "metadata": {
        "colab": {
          "base_uri": "https://localhost:8080/",
          "height": 447
        },
        "id": "Oybe5m4UgRnA",
        "outputId": "7078ee35-e22e-4714-a40e-aaf0cd0a7c8e"
      },
      "source": [
        "# Actual vs Predicted prizes\n",
        "dframe = pd.DataFrame(y_test,yhat)\n",
        "dfr=pd.DataFrame({\"Actual_price\":y_test,\"Predicted_price\":yhat})\n",
        "dfr"
      ],
      "execution_count": 63,
      "outputs": [
        {
          "output_type": "execute_result",
          "data": {
            "text/html": [
              "<div>\n",
              "<style scoped>\n",
              "    .dataframe tbody tr th:only-of-type {\n",
              "        vertical-align: middle;\n",
              "    }\n",
              "\n",
              "    .dataframe tbody tr th {\n",
              "        vertical-align: top;\n",
              "    }\n",
              "\n",
              "    .dataframe thead th {\n",
              "        text-align: right;\n",
              "    }\n",
              "</style>\n",
              "<table border=\"1\" class=\"dataframe\">\n",
              "  <thead>\n",
              "    <tr style=\"text-align: right;\">\n",
              "      <th></th>\n",
              "      <th>Actual_price</th>\n",
              "      <th>Predicted_price</th>\n",
              "    </tr>\n",
              "    <tr>\n",
              "      <th>Date</th>\n",
              "      <th></th>\n",
              "      <th></th>\n",
              "    </tr>\n",
              "  </thead>\n",
              "  <tbody>\n",
              "    <tr>\n",
              "      <th>2016-03-25</th>\n",
              "      <td>68.069995</td>\n",
              "      <td>68.067441</td>\n",
              "    </tr>\n",
              "    <tr>\n",
              "      <th>2015-06-16</th>\n",
              "      <td>66.460000</td>\n",
              "      <td>66.188773</td>\n",
              "    </tr>\n",
              "    <tr>\n",
              "      <th>2016-10-16</th>\n",
              "      <td>68.069995</td>\n",
              "      <td>68.051020</td>\n",
              "    </tr>\n",
              "    <tr>\n",
              "      <th>2017-11-06</th>\n",
              "      <td>62.520000</td>\n",
              "      <td>63.180732</td>\n",
              "    </tr>\n",
              "    <tr>\n",
              "      <th>2017-01-21</th>\n",
              "      <td>68.069995</td>\n",
              "      <td>68.042430</td>\n",
              "    </tr>\n",
              "    <tr>\n",
              "      <th>...</th>\n",
              "      <td>...</td>\n",
              "      <td>...</td>\n",
              "    </tr>\n",
              "    <tr>\n",
              "      <th>2017-05-12</th>\n",
              "      <td>55.320000</td>\n",
              "      <td>55.127093</td>\n",
              "    </tr>\n",
              "    <tr>\n",
              "      <th>2021-04-13</th>\n",
              "      <td>101.968750</td>\n",
              "      <td>101.966486</td>\n",
              "    </tr>\n",
              "    <tr>\n",
              "      <th>2017-01-20</th>\n",
              "      <td>62.880000</td>\n",
              "      <td>63.516027</td>\n",
              "    </tr>\n",
              "    <tr>\n",
              "      <th>2018-03-08</th>\n",
              "      <td>61.820000</td>\n",
              "      <td>61.849769</td>\n",
              "    </tr>\n",
              "    <tr>\n",
              "      <th>2019-08-29</th>\n",
              "      <td>76.450000</td>\n",
              "      <td>76.697590</td>\n",
              "    </tr>\n",
              "  </tbody>\n",
              "</table>\n",
              "<p>653 rows × 2 columns</p>\n",
              "</div>"
            ],
            "text/plain": [
              "            Actual_price  Predicted_price\n",
              "Date                                     \n",
              "2016-03-25     68.069995        68.067441\n",
              "2015-06-16     66.460000        66.188773\n",
              "2016-10-16     68.069995        68.051020\n",
              "2017-11-06     62.520000        63.180732\n",
              "2017-01-21     68.069995        68.042430\n",
              "...                  ...              ...\n",
              "2017-05-12     55.320000        55.127093\n",
              "2021-04-13    101.968750       101.966486\n",
              "2017-01-20     62.880000        63.516027\n",
              "2018-03-08     61.820000        61.849769\n",
              "2019-08-29     76.450000        76.697590\n",
              "\n",
              "[653 rows x 2 columns]"
            ]
          },
          "metadata": {
            "tags": []
          },
          "execution_count": 63
        }
      ]
    },
    {
      "cell_type": "code",
      "metadata": {
        "colab": {
          "base_uri": "https://localhost:8080/"
        },
        "id": "sKenR005ge3f",
        "outputId": "e59a8f15-1a9a-4314-d245-d6a8ebbc3ada"
      },
      "source": [
        "l.score(X_test,y_test)*100"
      ],
      "execution_count": 64,
      "outputs": [
        {
          "output_type": "execute_result",
          "data": {
            "text/plain": [
              "99.91118690805199"
            ]
          },
          "metadata": {
            "tags": []
          },
          "execution_count": 64
        }
      ]
    },
    {
      "cell_type": "code",
      "metadata": {
        "colab": {
          "base_uri": "https://localhost:8080/"
        },
        "id": "SHFFPLVBgfCq",
        "outputId": "90ef30b6-30d1-4686-b0f8-8b164e773284"
      },
      "source": [
        "scores = f'''\n",
        "{'Metric'.ljust(10)}{'Train'.center(20)}{'Test'.center(20)}\n",
        "{'r2_score'.ljust(10)}{r2_score(y_train,l.predict(X_train))}\\t{r2_score(y_test,l.predict(X_test))}\n",
        "'''\n",
        "print(scores)"
      ],
      "execution_count": 65,
      "outputs": [
        {
          "output_type": "stream",
          "text": [
            "\n",
            "Metric           Train                Test        \n",
            "r2_score  0.9992725604871545\t0.9991118690805199\n",
            "\n"
          ],
          "name": "stdout"
        }
      ]
    },
    {
      "cell_type": "code",
      "metadata": {
        "id": "Ns6DsIj9hn9p"
      },
      "source": [
        "from sklearn import metrics"
      ],
      "execution_count": 67,
      "outputs": []
    },
    {
      "cell_type": "code",
      "metadata": {
        "colab": {
          "base_uri": "https://localhost:8080/"
        },
        "id": "dnDtEfa-gfQV",
        "outputId": "39747146-1403-4a28-b42f-e6b658e1277c"
      },
      "source": [
        "\n",
        "print('Mean Absolute Error:',metrics.mean_absolute_error(y_test, yhat)) "
      ],
      "execution_count": 68,
      "outputs": [
        {
          "output_type": "stream",
          "text": [
            "Mean Absolute Error: 0.21805679299911981\n"
          ],
          "name": "stdout"
        }
      ]
    },
    {
      "cell_type": "code",
      "metadata": {
        "colab": {
          "base_uri": "https://localhost:8080/"
        },
        "id": "1Yc6NuE5gRph",
        "outputId": "20dcc328-0d6b-4be4-8c46-28aaccfe2b7c"
      },
      "source": [
        "#use k-fold cross validation\n",
        "from sklearn.model_selection import ShuffleSplit\n",
        "from sklearn.model_selection import cross_val_score\n",
        "\n",
        "cv = ShuffleSplit(n_splits=5, test_size=0.2, random_state=0)\n",
        "\n",
        "cross_val_score(LinearRegression(), X, y, cv=cv)"
      ],
      "execution_count": 70,
      "outputs": [
        {
          "output_type": "execute_result",
          "data": {
            "text/plain": [
              "array([0.99911187, 0.99928921, 0.99940065, 0.99911687, 0.99921128])"
            ]
          },
          "metadata": {
            "tags": []
          },
          "execution_count": 70
        }
      ]
    },
    {
      "cell_type": "code",
      "metadata": {
        "colab": {
          "base_uri": "https://localhost:8080/"
        },
        "id": "_VevxdBXh0Rr",
        "outputId": "f619e924-a6e7-4937-bdcb-0d10effd4fee"
      },
      "source": [
        "import datetime\n",
        "last_day = qcom.index[-1]\n",
        "next_day = last_day + datetime.timedelta(days = 1)\n",
        "print(next_day)"
      ],
      "execution_count": 72,
      "outputs": [
        {
          "output_type": "stream",
          "text": [
            "2021-06-24 00:00:00\n"
          ],
          "name": "stdout"
        }
      ]
    },
    {
      "cell_type": "code",
      "metadata": {
        "colab": {
          "base_uri": "https://localhost:8080/"
        },
        "id": "ERrDUI7ih4dD",
        "outputId": "9d4389c1-80e9-46ba-fa64-4ec1047dd294"
      },
      "source": [
        "X.columns"
      ],
      "execution_count": 73,
      "outputs": [
        {
          "output_type": "execute_result",
          "data": {
            "text/plain": [
              "Index(['compound', 'negative', 'neutral', 'positive', 'Open', 'High', 'Low',\n",
              "       'Volume', 'Subjectivity', 'Polarity'],\n",
              "      dtype='object')"
            ]
          },
          "metadata": {
            "tags": []
          },
          "execution_count": 73
        }
      ]
    },
    {
      "cell_type": "code",
      "metadata": {
        "id": "y3-JZCLoh5mi"
      },
      "source": [
        "# Functions to predict Close\n",
        "\n",
        "def Convert(Headlines):\n",
        "    Headline = list(Headlines.split(\"-\"))\n",
        "    return Headline\n",
        "\n",
        "def filter(Headline):\n",
        "    Head = [ x.lower() for x in Headline]\n",
        "    Head = [char_rmvl(x) for x in Head]\n",
        "    Head = [' '.join([word for word in s.split() if word not in (stop)]) for s in Head]\n",
        "    Head = [lemmat(s) for s in Head]\n",
        "    return Head\n",
        "\n",
        "def sent_anls(Head):\n",
        "    compound = [sid.polarity_scores(x)['compound'] for x in Head]\n",
        "    negative = [sid.polarity_scores(x)['neg'] for x in Head]\n",
        "    neutral = [sid.polarity_scores(x)['neu'] for x in Head]\n",
        "    positive = [sid.polarity_scores(x)['pos'] for x in Head]\n",
        "    subjectivity = [getsubj(x) for x in Head]\n",
        "    polarity = [getpolarity(x) for x in Head]\n",
        "\n",
        "    return compound,negative,neutral,positive,subjectivity,polarity\n",
        "\n",
        "\n",
        "\n",
        "\n",
        "def predict_price(Open,High,Low,Volume,Headlines):\n",
        "    head = filter(Headlines)\n",
        "    cmpd,negt,neut,post,subj,pol = sent_anls(head)\n",
        "    af = pd.DataFrame()\n",
        "    af['compound'] = cmpd\n",
        "    af['negative'] = negt\n",
        "    af['neutral'] = neut\n",
        "    af['positive'] = post\n",
        "    af['Open'] = Open \n",
        "    af['High'] = High\n",
        "    af['Low'] = Low\n",
        "    af['Volume'] = Volume\n",
        "    af['Subjectivity'] = subj\n",
        "    af['Polarity'] = pol\n",
        "    return l.predict(af)[0]"
      ],
      "execution_count": 74,
      "outputs": []
    },
    {
      "cell_type": "code",
      "metadata": {
        "id": "lOWs4zjIiDz1"
      },
      "source": [
        "prediction = predict_price(3272.87,3297.5800,3270.7000,2455530,'qualcomm loses stock')"
      ],
      "execution_count": 75,
      "outputs": []
    },
    {
      "cell_type": "code",
      "metadata": {
        "colab": {
          "base_uri": "https://localhost:8080/"
        },
        "id": "XITTF60NiJPz",
        "outputId": "338e5141-a7f1-430f-c37e-7a20f322bdee"
      },
      "source": [
        "print(\"Close :\" ,prediction)"
      ],
      "execution_count": 76,
      "outputs": [
        {
          "output_type": "stream",
          "text": [
            "Close : 3288.8358218603034\n"
          ],
          "name": "stdout"
        }
      ]
    },
    {
      "cell_type": "code",
      "metadata": {
        "id": "hiEMsgYmiKov"
      },
      "source": [
        "#Saving model\n",
        "import pickle\n",
        "pickle_out = open(\"linearmodel1.pkl\",\"wb\")\n",
        "pickle.dump(l,pickle_out)\n",
        "pickle_out.close()"
      ],
      "execution_count": 82,
      "outputs": []
    },
    {
      "cell_type": "code",
      "metadata": {
        "colab": {
          "base_uri": "https://localhost:8080/",
          "height": 17
        },
        "id": "NDCxzGDViPoJ",
        "outputId": "47d084fd-49e8-4c30-f0d8-7ed4fb4c49a7"
      },
      "source": [
        "from google.colab import files\n",
        "files.download('linearmodel1.pkl')"
      ],
      "execution_count": 83,
      "outputs": [
        {
          "output_type": "display_data",
          "data": {
            "application/javascript": [
              "\n",
              "    async function download(id, filename, size) {\n",
              "      if (!google.colab.kernel.accessAllowed) {\n",
              "        return;\n",
              "      }\n",
              "      const div = document.createElement('div');\n",
              "      const label = document.createElement('label');\n",
              "      label.textContent = `Downloading \"${filename}\": `;\n",
              "      div.appendChild(label);\n",
              "      const progress = document.createElement('progress');\n",
              "      progress.max = size;\n",
              "      div.appendChild(progress);\n",
              "      document.body.appendChild(div);\n",
              "\n",
              "      const buffers = [];\n",
              "      let downloaded = 0;\n",
              "\n",
              "      const channel = await google.colab.kernel.comms.open(id);\n",
              "      // Send a message to notify the kernel that we're ready.\n",
              "      channel.send({})\n",
              "\n",
              "      for await (const message of channel.messages) {\n",
              "        // Send a message to notify the kernel that we're ready.\n",
              "        channel.send({})\n",
              "        if (message.buffers) {\n",
              "          for (const buffer of message.buffers) {\n",
              "            buffers.push(buffer);\n",
              "            downloaded += buffer.byteLength;\n",
              "            progress.value = downloaded;\n",
              "          }\n",
              "        }\n",
              "      }\n",
              "      const blob = new Blob(buffers, {type: 'application/binary'});\n",
              "      const a = document.createElement('a');\n",
              "      a.href = window.URL.createObjectURL(blob);\n",
              "      a.download = filename;\n",
              "      div.appendChild(a);\n",
              "      a.click();\n",
              "      div.remove();\n",
              "    }\n",
              "  "
            ],
            "text/plain": [
              "<IPython.core.display.Javascript object>"
            ]
          },
          "metadata": {
            "tags": []
          }
        },
        {
          "output_type": "display_data",
          "data": {
            "application/javascript": [
              "download(\"download_ab085fff-9e17-40bc-942e-07e1e519a9ea\", \"linearmodel1.pkl\", 663)"
            ],
            "text/plain": [
              "<IPython.core.display.Javascript object>"
            ]
          },
          "metadata": {
            "tags": []
          }
        }
      ]
    }
  ]
}